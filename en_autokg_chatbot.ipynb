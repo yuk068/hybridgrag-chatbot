{
 "cells": [
  {
   "cell_type": "markdown",
   "metadata": {},
   "source": [
    "# Chatbot with HybridGRAG + Auto KG Construction Pipeline (English)"
   ]
  },
  {
   "cell_type": "markdown",
   "metadata": {},
   "source": [
    "#### Auto reload modules"
   ]
  },
  {
   "cell_type": "code",
   "execution_count": 1,
   "metadata": {},
   "outputs": [],
   "source": [
    "%load_ext autoreload\n",
    "%autoreload 2"
   ]
  },
  {
   "cell_type": "markdown",
   "metadata": {},
   "source": [
    "#### Imports\n",
    "- Make sure it prints `proceed` before continuing."
   ]
  },
  {
   "cell_type": "code",
   "execution_count": 2,
   "metadata": {
    "id": "jPIRSGz4tHNV"
   },
   "outputs": [
    {
     "name": "stderr",
     "output_type": "stream",
     "text": [
      "C:\\Users\\PC\\AppData\\Local\\Temp\\ipykernel_4276\\94814614.py:19: LangChainDeprecationWarning: As of langchain-core 0.3.0, LangChain uses pydantic v2 internally. The langchain_core.pydantic_v1 module was a compatibility shim for pydantic v1, and should no longer be used. Please update the code to import from Pydantic directly.\n",
      "\n",
      "For example, replace imports like: `from langchain_core.pydantic_v1 import BaseModel`\n",
      "with: `from pydantic import BaseModel`\n",
      "or the v1 compatibility namespace if you are working in a code base that has not been fully upgraded to pydantic 2 yet. \tfrom pydantic.v1 import BaseModel\n",
      "\n",
      "  from utils.langchainLGT import LLMGraphTransformer\n"
     ]
    },
    {
     "name": "stdout",
     "output_type": "stream",
     "text": [
      "Proceed\n"
     ]
    }
   ],
   "source": [
    "import warnings \n",
    "warnings.filterwarnings('ignore')\n",
    "\n",
    "from langchain_core.runnables import  RunnablePassthrough\n",
    "from langchain_core.prompts import ChatPromptTemplate\n",
    "from pydantic import BaseModel, Field\n",
    "from langchain_core.output_parsers import StrOutputParser\n",
    "from langchain_community.graphs import Neo4jGraph\n",
    "from langchain_community.graphs.neo4j_graph import Neo4jGraph\n",
    "from langchain.text_splitter import RecursiveCharacterTextSplitter\n",
    "from langchain_community.chat_models import ChatOllama\n",
    "from langchain_core.documents.base import Document\n",
    "from langchain_community.document_loaders import (\n",
    "    TextLoader,\n",
    "    UnstructuredFileLoader,\n",
    "    JSONLoader,\n",
    ")\n",
    "\n",
    "from utils.langchainLGT import LLMGraphTransformer \n",
    "from utils.checkpoint_manager import CheckpointManager\n",
    "from utils.neo4j_utils import *\n",
    "from utils.document_utils import *\n",
    "from typing import Sequence\n",
    "\n",
    "from neo4j import GraphDatabase\n",
    "from yfiles_jupyter_graphs import GraphWidget\n",
    "from langchain_community.vectorstores import Neo4jVector\n",
    "from langchain_community.document_loaders import TextLoader\n",
    "from langchain_community.vectorstores.neo4j_vector import remove_lucene_chars\n",
    "from langchain_ollama import OllamaEmbeddings\n",
    "import os\n",
    "\n",
    "from langchain_experimental.llms.ollama_functions import OllamaFunctions\n",
    "from neo4j import  Driver\n",
    "from openai import OpenAI\n",
    "from langchain.chat_models import ChatOpenAI\n",
    "\n",
    "import logging\n",
    "from tqdm import tqdm\n",
    "import json\n",
    "import re\n",
    "from tqdm import tqdm\n",
    "from time import sleep\n",
    "from datetime import datetime\n",
    "\n",
    "from PyPDF2 import PdfReader\n",
    "import pdfplumber\n",
    "from docx import Document as DocxDocument\n",
    "import docx\n",
    "from markdown import markdown\n",
    "\n",
    "import pickle\n",
    "from typing import List, Dict, Any\n",
    "from pathlib import Path\n",
    "\n",
    "from dotenv import load_dotenv\n",
    "\n",
    "if not load_dotenv():\n",
    "    print(\"Warning: .env not correctly set up\")\n",
    "else:\n",
    "    print(\"Proceed\")"
   ]
  },
  {
   "cell_type": "markdown",
   "metadata": {},
   "source": [
    "---\n",
    "\n",
    "#### Configure Const\n",
    "- `MODEL`: The primary LLM for entity and relationship extraction, and later Chatbot with HybridGRAG intergration.\n",
    "- `EMB_MODEL`: The text embedding model that will be used for the RAG part of HybridGRAG.\n",
    "- `CHECKPOINT_PATH`: Path for JSON checkpoint in the automatic KG construction pipeline.\n",
    "- `DOC_DIR`: Your documents directory.\n",
    "- `ALLOWED_NODES`: List of type of nodes that you only want in your KG.\n",
    "- `ALLOWED_RELATIONSHIPS`: List of type of relations that you only want in your KG.\n",
    "- `STRICT_MODE`: Whether to explicitly enforce node and relation types or not."
   ]
  },
  {
   "cell_type": "code",
   "execution_count": 3,
   "metadata": {},
   "outputs": [],
   "source": [
    "MODEL = \"qwen2.5-7b-instruct\"\n",
    "EMB_MODEL = \"text-embedding-nomic-embed-text-v1.5@q8_0\"\n",
    "CHECKPOINT_PATH = \"en_processing_checkpoint.json\"\n",
    "DOC_DIR = \"documents/\"\n",
    "ALLOWED_NODES = []\n",
    "ALLOWED_RELATIONSHIPS = []\n",
    "STRICT_MODE = False"
   ]
  },
  {
   "cell_type": "markdown",
   "metadata": {},
   "source": [
    "#### Check to see if the `neo4j` database have been populated yet"
   ]
  },
  {
   "cell_type": "code",
   "execution_count": 4,
   "metadata": {},
   "outputs": [
    {
     "name": "stdout",
     "output_type": "stream",
     "text": [
      "DB is not populated\n"
     ]
    }
   ],
   "source": [
    "if not is_database_populated():\n",
    "    print(\"DB is not populated\")\n",
    "else:\n",
    "    print(\"DB IS POPULATED\")"
   ]
  },
  {
   "cell_type": "markdown",
   "metadata": {},
   "source": [
    "---\n",
    "\n",
    "## MAIN AUTOMATIC KNOWLEDGE GRAPH CONSTRUCTION PIPELINE\n",
    "\n",
    "##### Step 1.\n",
    "- Put you documents in `DOC_DIR`, supported formats: `.txt`, `.md`, `.json`, `.docx`, `.pdf` (Mostly will only extract text). Scanned PDF will not work.\n",
    "- Chunking strategy: Default text chunking is 100 words (\" \" delimiter) with 20 words over lap.\n",
    "- Pipeline: Load all the files in `DOC_DIR` and process chunking.\n",
    "\n",
    "##### Step 2.\n",
    "- Converting `Document` to `GraphDocument` with `LLMGraphTransformer` from `langchain`, using `MODEL` as the entity relation extractor.\n",
    "\n",
    "##### Step 3.\n",
    "- Adding to **Neo4j** database, complete the pipeline."
   ]
  },
  {
   "cell_type": "code",
   "execution_count": 6,
   "metadata": {
    "scrolled": true
   },
   "outputs": [
    {
     "name": "stderr",
     "output_type": "stream",
     "text": [
      "2025-03-20 11:33:26,274 - INFO - Processed documents/Agrawal et al. - 2024 - Can Knowledge Graphs Reduce Hallucinations in LLMs A Survey.pdf into 179 chunks\n",
      "Processing files: 100%|██████████████████████████████████████████████████████████████████| 1/1 [00:00<00:00,  2.30it/s]\n",
      "2025-03-20 11:33:27,220 - INFO - HTTP Request: POST http://127.0.0.1:8000/v1/chat/completions \"HTTP/1.1 200 OK\", ?it/s]\n",
      "2025-03-20 11:33:27,234 - INFO - Converted document documents/Agrawal et al. - 2024 - Can Knowledge Graphs Reduce Hallucinations in LLMs A Survey.pdf_-5399310952819964288 to GraphDocument.\n",
      "2025-03-20 11:33:27,342 - INFO - HTTP Request: POST http://127.0.0.1:8000/v1/chat/completions \"HTTP/1.1 200 OK\".05it/s]\n",
      "2025-03-20 11:33:27,343 - INFO - Converted document documents/Agrawal et al. - 2024 - Can Knowledge Graphs Reduce Hallucinations in LLMs A Survey.pdf_95917820899393132 to GraphDocument.\n",
      "2025-03-20 11:33:27,455 - INFO - HTTP Request: POST http://127.0.0.1:8000/v1/chat/completions \"HTTP/1.1 200 OK\".18it/s]\n",
      "2025-03-20 11:33:27,458 - INFO - Converted document documents/Agrawal et al. - 2024 - Can Knowledge Graphs Reduce Hallucinations in LLMs A Survey.pdf_4308882816672405721 to GraphDocument.\n",
      "2025-03-20 11:33:27,575 - INFO - HTTP Request: POST http://127.0.0.1:8000/v1/chat/completions \"HTTP/1.1 200 OK\".32it/s]\n",
      "2025-03-20 11:33:27,577 - INFO - Converted document documents/Agrawal et al. - 2024 - Can Knowledge Graphs Reduce Hallucinations in LLMs A Survey.pdf_7381775149804331241 to GraphDocument.\n",
      "2025-03-20 11:33:27,693 - INFO - HTTP Request: POST http://127.0.0.1:8000/v1/chat/completions \"HTTP/1.1 200 OK\".37it/s]\n",
      "2025-03-20 11:33:27,694 - INFO - Converted document documents/Agrawal et al. - 2024 - Can Knowledge Graphs Reduce Hallucinations in LLMs A Survey.pdf_-8874418626847098295 to GraphDocument.\n",
      "2025-03-20 11:33:27,800 - INFO - HTTP Request: POST http://127.0.0.1:8000/v1/chat/completions \"HTTP/1.1 200 OK\".29it/s]\n",
      "2025-03-20 11:33:27,802 - INFO - Converted document documents/Agrawal et al. - 2024 - Can Knowledge Graphs Reduce Hallucinations in LLMs A Survey.pdf_1149580450291912978 to GraphDocument.\n",
      "2025-03-20 11:33:27,926 - INFO - HTTP Request: POST http://127.0.0.1:8000/v1/chat/completions \"HTTP/1.1 200 OK\".19it/s]\n",
      "2025-03-20 11:33:27,926 - INFO - Converted document documents/Agrawal et al. - 2024 - Can Knowledge Graphs Reduce Hallucinations in LLMs A Survey.pdf_2051585798470481261 to GraphDocument.\n",
      "2025-03-20 11:33:28,046 - INFO - HTTP Request: POST http://127.0.0.1:8000/v1/chat/completions \"HTTP/1.1 200 OK\".71it/s]\n",
      "2025-03-20 11:33:28,052 - INFO - Converted document documents/Agrawal et al. - 2024 - Can Knowledge Graphs Reduce Hallucinations in LLMs A Survey.pdf_-7702070911533137097 to GraphDocument.\n",
      "2025-03-20 11:33:28,176 - INFO - HTTP Request: POST http://127.0.0.1:8000/v1/chat/completions \"HTTP/1.1 200 OK\".05it/s]\n",
      "2025-03-20 11:33:28,178 - INFO - Converted document documents/Agrawal et al. - 2024 - Can Knowledge Graphs Reduce Hallucinations in LLMs A Survey.pdf_-5899348783537138609 to GraphDocument.\n",
      "2025-03-20 11:33:28,305 - INFO - HTTP Request: POST http://127.0.0.1:8000/v1/chat/completions \"HTTP/1.1 200 OK\".31it/s]\n",
      "2025-03-20 11:33:28,307 - INFO - Converted document documents/Agrawal et al. - 2024 - Can Knowledge Graphs Reduce Hallucinations in LLMs A Survey.pdf_5414139065398532547 to GraphDocument.\n",
      "2025-03-20 11:33:28,525 - INFO - HTTP Request: POST http://127.0.0.1:8000/v1/chat/completions \"HTTP/1.1 200 OK\".43it/s]\n",
      "2025-03-20 11:33:28,527 - INFO - Converted document documents/Agrawal et al. - 2024 - Can Knowledge Graphs Reduce Hallucinations in LLMs A Survey.pdf_-3579409635347291135 to GraphDocument.\n",
      "2025-03-20 11:33:28,721 - INFO - HTTP Request: POST http://127.0.0.1:8000/v1/chat/completions \"HTTP/1.1 200 OK\".24it/s]\n",
      "2025-03-20 11:33:28,723 - INFO - Converted document documents/Agrawal et al. - 2024 - Can Knowledge Graphs Reduce Hallucinations in LLMs A Survey.pdf_6740115681614539412 to GraphDocument.\n",
      "2025-03-20 11:33:38,778 - INFO - HTTP Request: POST http://127.0.0.1:8000/v1/chat/completions \"HTTP/1.1 200 OK\".83it/s]\n",
      "2025-03-20 11:33:38,781 - INFO - Converted document documents/Agrawal et al. - 2024 - Can Knowledge Graphs Reduce Hallucinations in LLMs A Survey.pdf_-1742125321653252539 to GraphDocument.\n",
      "2025-03-20 11:33:46,390 - INFO - HTTP Request: POST http://127.0.0.1:8000/v1/chat/completions \"HTTP/1.1 200 OK\".17s/it]\n",
      "2025-03-20 11:33:46,393 - INFO - Converted document documents/Agrawal et al. - 2024 - Can Knowledge Graphs Reduce Hallucinations in LLMs A Survey.pdf_-5156266156514832223 to GraphDocument.\n",
      "2025-03-20 11:33:50,345 - INFO - HTTP Request: POST http://127.0.0.1:8000/v1/chat/completions \"HTTP/1.1 200 OK\".51s/it]\n",
      "2025-03-20 11:33:50,347 - INFO - Converted document documents/Agrawal et al. - 2024 - Can Knowledge Graphs Reduce Hallucinations in LLMs A Survey.pdf_6980517612931408600 to GraphDocument.\n",
      "2025-03-20 11:33:50,469 - INFO - HTTP Request: POST http://127.0.0.1:8000/v1/chat/completions \"HTTP/1.1 200 OK\".34s/it]\n",
      "2025-03-20 11:33:50,472 - INFO - Converted document documents/Agrawal et al. - 2024 - Can Knowledge Graphs Reduce Hallucinations in LLMs A Survey.pdf_602028277680920854 to GraphDocument.\n",
      "2025-03-20 11:33:50,593 - INFO - HTTP Request: POST http://127.0.0.1:8000/v1/chat/completions \"HTTP/1.1 200 OK\".07s/it]\n",
      "2025-03-20 11:33:50,595 - INFO - Converted document documents/Agrawal et al. - 2024 - Can Knowledge Graphs Reduce Hallucinations in LLMs A Survey.pdf_-8202167869633879430 to GraphDocument.\n",
      "2025-03-20 11:33:50,722 - INFO - HTTP Request: POST http://127.0.0.1:8000/v1/chat/completions \"HTTP/1.1 200 OK\".19s/it]\n",
      "2025-03-20 11:33:50,724 - INFO - Converted document documents/Agrawal et al. - 2024 - Can Knowledge Graphs Reduce Hallucinations in LLMs A Survey.pdf_-3504347770205592491 to GraphDocument.\n",
      "2025-03-20 11:33:50,839 - INFO - HTTP Request: POST http://127.0.0.1:8000/v1/chat/completions \"HTTP/1.1 200 OK\".57s/it]\n",
      "2025-03-20 11:33:50,841 - INFO - Converted document documents/Agrawal et al. - 2024 - Can Knowledge Graphs Reduce Hallucinations in LLMs A Survey.pdf_-3045844328689840067 to GraphDocument.\n",
      "2025-03-20 11:33:50,967 - INFO - HTTP Request: POST http://127.0.0.1:8000/v1/chat/completions \"HTTP/1.1 200 OK\".13s/it]\n",
      "2025-03-20 11:33:50,969 - INFO - Converted document documents/Agrawal et al. - 2024 - Can Knowledge Graphs Reduce Hallucinations in LLMs A Survey.pdf_7740118673102964066 to GraphDocument.\n",
      "2025-03-20 11:33:51,100 - INFO - HTTP Request: POST http://127.0.0.1:8000/v1/chat/completions \"HTTP/1.1 200 OK\".20it/s]\n",
      "2025-03-20 11:33:51,102 - INFO - Converted document documents/Agrawal et al. - 2024 - Can Knowledge Graphs Reduce Hallucinations in LLMs A Survey.pdf_745991940717124192 to GraphDocument.\n",
      "2025-03-20 11:33:55,443 - INFO - HTTP Request: POST http://127.0.0.1:8000/v1/chat/completions \"HTTP/1.1 200 OK\".61it/s]\n",
      "2025-03-20 11:33:55,444 - INFO - Converted document documents/Agrawal et al. - 2024 - Can Knowledge Graphs Reduce Hallucinations in LLMs A Survey.pdf_7076899143389988222 to GraphDocument.\n",
      "2025-03-20 11:33:55,566 - INFO - HTTP Request: POST http://127.0.0.1:8000/v1/chat/completions \"HTTP/1.1 200 OK\".74s/it]\n",
      "2025-03-20 11:33:55,568 - INFO - Converted document documents/Agrawal et al. - 2024 - Can Knowledge Graphs Reduce Hallucinations in LLMs A Survey.pdf_-7303242612325679388 to GraphDocument.\n",
      "2025-03-20 11:33:57,201 - INFO - HTTP Request: POST http://127.0.0.1:8000/v1/chat/completions \"HTTP/1.1 200 OK\".25s/it]\n",
      "2025-03-20 11:33:57,203 - INFO - Converted document documents/Agrawal et al. - 2024 - Can Knowledge Graphs Reduce Hallucinations in LLMs A Survey.pdf_7261692417565831105 to GraphDocument.\n",
      "2025-03-20 11:33:57,328 - INFO - HTTP Request: POST http://127.0.0.1:8000/v1/chat/completions \"HTTP/1.1 200 OK\".37s/it]\n",
      "2025-03-20 11:33:57,330 - INFO - Converted document documents/Agrawal et al. - 2024 - Can Knowledge Graphs Reduce Hallucinations in LLMs A Survey.pdf_-8394519098578523293 to GraphDocument.\n",
      "2025-03-20 11:33:57,437 - INFO - HTTP Request: POST http://127.0.0.1:8000/v1/chat/completions \"HTTP/1.1 200 OK\".00it/s]\n",
      "2025-03-20 11:33:57,439 - INFO - Converted document documents/Agrawal et al. - 2024 - Can Knowledge Graphs Reduce Hallucinations in LLMs A Survey.pdf_4315047527721616483 to GraphDocument.\n",
      "2025-03-20 11:33:57,557 - INFO - HTTP Request: POST http://127.0.0.1:8000/v1/chat/completions \"HTTP/1.1 200 OK\".37it/s]\n",
      "2025-03-20 11:33:57,560 - INFO - Converted document documents/Agrawal et al. - 2024 - Can Knowledge Graphs Reduce Hallucinations in LLMs A Survey.pdf_7532670189905051747 to GraphDocument.\n",
      "2025-03-20 11:33:57,679 - INFO - HTTP Request: POST http://127.0.0.1:8000/v1/chat/completions \"HTTP/1.1 200 OK\".83it/s]\n",
      "2025-03-20 11:33:57,681 - INFO - Converted document documents/Agrawal et al. - 2024 - Can Knowledge Graphs Reduce Hallucinations in LLMs A Survey.pdf_-538727891135762472 to GraphDocument.\n",
      "2025-03-20 11:34:01,271 - INFO - HTTP Request: POST http://127.0.0.1:8000/v1/chat/completions \"HTTP/1.1 200 OK\".38it/s]\n",
      "2025-03-20 11:34:01,273 - INFO - Converted document documents/Agrawal et al. - 2024 - Can Knowledge Graphs Reduce Hallucinations in LLMs A Survey.pdf_-5592781064625510375 to GraphDocument.\n",
      "2025-03-20 11:34:03,766 - INFO - HTTP Request: POST http://127.0.0.1:8000/v1/chat/completions \"HTTP/1.1 200 OK\".37s/it]\n",
      "2025-03-20 11:34:03,768 - INFO - Converted document documents/Agrawal et al. - 2024 - Can Knowledge Graphs Reduce Hallucinations in LLMs A Survey.pdf_-4098086434374067563 to GraphDocument.\n",
      "2025-03-20 11:34:03,882 - INFO - HTTP Request: POST http://127.0.0.1:8000/v1/chat/completions \"HTTP/1.1 200 OK\".71s/it]\n",
      "2025-03-20 11:34:03,884 - INFO - Converted document documents/Agrawal et al. - 2024 - Can Knowledge Graphs Reduce Hallucinations in LLMs A Survey.pdf_6025598126580327096 to GraphDocument.\n",
      "2025-03-20 11:34:04,002 - INFO - HTTP Request: POST http://127.0.0.1:8000/v1/chat/completions \"HTTP/1.1 200 OK\".23s/it]\n",
      "2025-03-20 11:34:04,004 - INFO - Converted document documents/Agrawal et al. - 2024 - Can Knowledge Graphs Reduce Hallucinations in LLMs A Survey.pdf_6554823298039554172 to GraphDocument.\n",
      "2025-03-20 11:34:04,128 - INFO - HTTP Request: POST http://127.0.0.1:8000/v1/chat/completions \"HTTP/1.1 200 OK\".11it/s]\n",
      "2025-03-20 11:34:04,130 - INFO - Converted document documents/Agrawal et al. - 2024 - Can Knowledge Graphs Reduce Hallucinations in LLMs A Survey.pdf_7979741693210035111 to GraphDocument.\n",
      "2025-03-20 11:34:07,422 - INFO - HTTP Request: POST http://127.0.0.1:8000/v1/chat/completions \"HTTP/1.1 200 OK\".50it/s]\n",
      "2025-03-20 11:34:07,424 - INFO - Converted document documents/Agrawal et al. - 2024 - Can Knowledge Graphs Reduce Hallucinations in LLMs A Survey.pdf_-4085917130890177381 to GraphDocument.\n",
      "2025-03-20 11:34:07,539 - INFO - HTTP Request: POST http://127.0.0.1:8000/v1/chat/completions \"HTTP/1.1 200 OK\".45s/it]\n",
      "2025-03-20 11:34:07,541 - INFO - Converted document documents/Agrawal et al. - 2024 - Can Knowledge Graphs Reduce Hallucinations in LLMs A Survey.pdf_8367985543929353914 to GraphDocument.\n",
      "2025-03-20 11:34:07,655 - INFO - HTTP Request: POST http://127.0.0.1:8000/v1/chat/completions \"HTTP/1.1 200 OK\".05s/it]\n",
      "2025-03-20 11:34:07,657 - INFO - Converted document documents/Agrawal et al. - 2024 - Can Knowledge Graphs Reduce Hallucinations in LLMs A Survey.pdf_-6438742472466007143 to GraphDocument.\n",
      "2025-03-20 11:34:07,774 - INFO - HTTP Request: POST http://127.0.0.1:8000/v1/chat/completions \"HTTP/1.1 200 OK\".30it/s]\n",
      "2025-03-20 11:34:07,785 - INFO - Converted document documents/Agrawal et al. - 2024 - Can Knowledge Graphs Reduce Hallucinations in LLMs A Survey.pdf_3374845938708773649 to GraphDocument.\n",
      "2025-03-20 11:34:07,899 - INFO - HTTP Request: POST http://127.0.0.1:8000/v1/chat/completions \"HTTP/1.1 200 OK\".73it/s]\n",
      "2025-03-20 11:34:07,901 - INFO - Converted document documents/Agrawal et al. - 2024 - Can Knowledge Graphs Reduce Hallucinations in LLMs A Survey.pdf_1422813788358849350 to GraphDocument.\n",
      "2025-03-20 11:34:08,027 - INFO - HTTP Request: POST http://127.0.0.1:8000/v1/chat/completions \"HTTP/1.1 200 OK\".27it/s]\n",
      "2025-03-20 11:34:08,029 - INFO - Converted document documents/Agrawal et al. - 2024 - Can Knowledge Graphs Reduce Hallucinations in LLMs A Survey.pdf_-8020394513576402420 to GraphDocument.\n",
      "2025-03-20 11:34:14,267 - INFO - HTTP Request: POST http://127.0.0.1:8000/v1/chat/completions \"HTTP/1.1 200 OK\".89it/s]\n",
      "2025-03-20 11:34:14,269 - INFO - Converted document documents/Agrawal et al. - 2024 - Can Knowledge Graphs Reduce Hallucinations in LLMs A Survey.pdf_5726887622231784155 to GraphDocument.\n",
      "2025-03-20 11:34:17,206 - INFO - HTTP Request: POST http://127.0.0.1:8000/v1/chat/completions \"HTTP/1.1 200 OK\".11s/it]\n",
      "2025-03-20 11:34:17,208 - INFO - Converted document documents/Agrawal et al. - 2024 - Can Knowledge Graphs Reduce Hallucinations in LLMs A Survey.pdf_7651581903416021928 to GraphDocument.\n",
      "2025-03-20 11:34:20,780 - INFO - HTTP Request: POST http://127.0.0.1:8000/v1/chat/completions \"HTTP/1.1 200 OK\".36s/it]\n",
      "2025-03-20 11:34:20,782 - INFO - Converted document documents/Agrawal et al. - 2024 - Can Knowledge Graphs Reduce Hallucinations in LLMs A Survey.pdf_-670037832084064616 to GraphDocument.\n",
      "2025-03-20 11:34:20,887 - INFO - HTTP Request: POST http://127.0.0.1:8000/v1/chat/completions \"HTTP/1.1 200 OK\".73s/it]\n",
      "2025-03-20 11:34:20,889 - INFO - Converted document documents/Agrawal et al. - 2024 - Can Knowledge Graphs Reduce Hallucinations in LLMs A Survey.pdf_-1065828364248351092 to GraphDocument.\n",
      "2025-03-20 11:34:21,005 - INFO - HTTP Request: POST http://127.0.0.1:8000/v1/chat/completions \"HTTP/1.1 200 OK\".94s/it]\n",
      "2025-03-20 11:34:21,007 - INFO - Converted document documents/Agrawal et al. - 2024 - Can Knowledge Graphs Reduce Hallucinations in LLMs A Survey.pdf_6120603995500673828 to GraphDocument.\n",
      "2025-03-20 11:34:23,326 - INFO - HTTP Request: POST http://127.0.0.1:8000/v1/chat/completions \"HTTP/1.1 200 OK\".39s/it]\n",
      "2025-03-20 11:34:23,329 - INFO - Converted document documents/Agrawal et al. - 2024 - Can Knowledge Graphs Reduce Hallucinations in LLMs A Survey.pdf_-873132756901249922 to GraphDocument.\n",
      "2025-03-20 11:34:23,442 - INFO - HTTP Request: POST http://127.0.0.1:8000/v1/chat/completions \"HTTP/1.1 200 OK\".67s/it]\n",
      "2025-03-20 11:34:23,444 - INFO - Converted document documents/Agrawal et al. - 2024 - Can Knowledge Graphs Reduce Hallucinations in LLMs A Survey.pdf_5271308788294305718 to GraphDocument.\n",
      "2025-03-20 11:34:25,159 - INFO - HTTP Request: POST http://127.0.0.1:8000/v1/chat/completions \"HTTP/1.1 200 OK\".21s/it]\n",
      "2025-03-20 11:34:25,161 - INFO - Converted document documents/Agrawal et al. - 2024 - Can Knowledge Graphs Reduce Hallucinations in LLMs A Survey.pdf_-6101484958320441577 to GraphDocument.\n",
      "2025-03-20 11:34:26,838 - INFO - HTTP Request: POST http://127.0.0.1:8000/v1/chat/completions \"HTTP/1.1 200 OK\".36s/it]\n",
      "2025-03-20 11:34:26,838 - INFO - Converted document documents/Agrawal et al. - 2024 - Can Knowledge Graphs Reduce Hallucinations in LLMs A Survey.pdf_8294817110653423404 to GraphDocument.\n",
      "2025-03-20 11:34:26,967 - INFO - HTTP Request: POST http://127.0.0.1:8000/v1/chat/completions \"HTTP/1.1 200 OK\".45s/it]\n",
      "2025-03-20 11:34:26,969 - INFO - Converted document documents/Agrawal et al. - 2024 - Can Knowledge Graphs Reduce Hallucinations in LLMs A Survey.pdf_2259950805779034070 to GraphDocument.\n",
      "2025-03-20 11:34:27,089 - INFO - HTTP Request: POST http://127.0.0.1:8000/v1/chat/completions \"HTTP/1.1 200 OK\".06s/it]\n",
      "2025-03-20 11:34:27,091 - INFO - Converted document documents/Agrawal et al. - 2024 - Can Knowledge Graphs Reduce Hallucinations in LLMs A Survey.pdf_-8457544479447676256 to GraphDocument.\n",
      "2025-03-20 11:34:27,226 - INFO - HTTP Request: POST http://127.0.0.1:8000/v1/chat/completions \"HTTP/1.1 200 OK\".29it/s]\n",
      "2025-03-20 11:34:27,228 - INFO - Converted document documents/Agrawal et al. - 2024 - Can Knowledge Graphs Reduce Hallucinations in LLMs A Survey.pdf_-8970845175504113946 to GraphDocument.\n",
      "2025-03-20 11:34:27,356 - INFO - HTTP Request: POST http://127.0.0.1:8000/v1/chat/completions \"HTTP/1.1 200 OK\".71it/s]\n",
      "2025-03-20 11:34:27,358 - INFO - Converted document documents/Agrawal et al. - 2024 - Can Knowledge Graphs Reduce Hallucinations in LLMs A Survey.pdf_4416795174341385904 to GraphDocument.\n",
      "2025-03-20 11:34:29,394 - INFO - HTTP Request: POST http://127.0.0.1:8000/v1/chat/completions \"HTTP/1.1 200 OK\".23it/s]\n",
      "2025-03-20 11:34:29,396 - INFO - Converted document documents/Agrawal et al. - 2024 - Can Knowledge Graphs Reduce Hallucinations in LLMs A Survey.pdf_7455473383645934037 to GraphDocument.\n",
      "2025-03-20 11:34:32,387 - INFO - HTTP Request: POST http://127.0.0.1:8000/v1/chat/completions \"HTTP/1.1 200 OK\".08it/s]\n",
      "2025-03-20 11:34:32,390 - INFO - Converted document documents/Agrawal et al. - 2024 - Can Knowledge Graphs Reduce Hallucinations in LLMs A Survey.pdf_6882901824813285470 to GraphDocument.\n",
      "2025-03-20 11:34:32,508 - INFO - HTTP Request: POST http://127.0.0.1:8000/v1/chat/completions \"HTTP/1.1 200 OK\".55s/it]\n",
      "2025-03-20 11:34:32,511 - INFO - Converted document documents/Agrawal et al. - 2024 - Can Knowledge Graphs Reduce Hallucinations in LLMs A Survey.pdf_-6533790127758087747 to GraphDocument.\n",
      "2025-03-20 11:34:32,643 - INFO - HTTP Request: POST http://127.0.0.1:8000/v1/chat/completions \"HTTP/1.1 200 OK\".12s/it]\n",
      "2025-03-20 11:34:32,645 - INFO - Converted document documents/Agrawal et al. - 2024 - Can Knowledge Graphs Reduce Hallucinations in LLMs A Survey.pdf_-3425065290732781204 to GraphDocument.\n",
      "2025-03-20 11:34:32,766 - INFO - HTTP Request: POST http://127.0.0.1:8000/v1/chat/completions \"HTTP/1.1 200 OK\".22it/s]\n",
      "2025-03-20 11:34:32,768 - INFO - Converted document documents/Agrawal et al. - 2024 - Can Knowledge Graphs Reduce Hallucinations in LLMs A Survey.pdf_2993988830704032 to GraphDocument.\n",
      "2025-03-20 11:34:32,915 - INFO - HTTP Request: POST http://127.0.0.1:8000/v1/chat/completions \"HTTP/1.1 200 OK\".63it/s]\n",
      "2025-03-20 11:34:32,917 - INFO - Converted document documents/Agrawal et al. - 2024 - Can Knowledge Graphs Reduce Hallucinations in LLMs A Survey.pdf_5299738953672181106 to GraphDocument.\n",
      "2025-03-20 11:34:33,039 - INFO - HTTP Request: POST http://127.0.0.1:8000/v1/chat/completions \"HTTP/1.1 200 OK\".11it/s]\n",
      "2025-03-20 11:34:33,041 - INFO - Converted document documents/Agrawal et al. - 2024 - Can Knowledge Graphs Reduce Hallucinations in LLMs A Survey.pdf_-2298757612067722880 to GraphDocument.\n",
      "2025-03-20 11:34:35,710 - INFO - HTTP Request: POST http://127.0.0.1:8000/v1/chat/completions \"HTTP/1.1 200 OK\".71it/s]\n",
      "2025-03-20 11:34:35,712 - INFO - Converted document documents/Agrawal et al. - 2024 - Can Knowledge Graphs Reduce Hallucinations in LLMs A Survey.pdf_2039527251253054225 to GraphDocument.\n",
      "2025-03-20 11:34:35,847 - INFO - HTTP Request: POST http://127.0.0.1:8000/v1/chat/completions \"HTTP/1.1 200 OK\".06s/it]\n",
      "2025-03-20 11:34:35,854 - INFO - Converted document documents/Agrawal et al. - 2024 - Can Knowledge Graphs Reduce Hallucinations in LLMs A Survey.pdf_-8448774436270427695 to GraphDocument.\n",
      "2025-03-20 11:34:35,974 - INFO - HTTP Request: POST http://127.0.0.1:8000/v1/chat/completions \"HTTP/1.1 200 OK\".28it/s]\n",
      "2025-03-20 11:34:35,976 - INFO - Converted document documents/Agrawal et al. - 2024 - Can Knowledge Graphs Reduce Hallucinations in LLMs A Survey.pdf_7260560819557671690 to GraphDocument.\n",
      "2025-03-20 11:34:36,084 - INFO - HTTP Request: POST http://127.0.0.1:8000/v1/chat/completions \"HTTP/1.1 200 OK\".71it/s]\n",
      "2025-03-20 11:34:36,093 - INFO - Converted document documents/Agrawal et al. - 2024 - Can Knowledge Graphs Reduce Hallucinations in LLMs A Survey.pdf_5972414359726595864 to GraphDocument.\n",
      "2025-03-20 11:34:36,195 - INFO - HTTP Request: POST http://127.0.0.1:8000/v1/chat/completions \"HTTP/1.1 200 OK\".25it/s]\n",
      "2025-03-20 11:34:36,201 - INFO - Converted document documents/Agrawal et al. - 2024 - Can Knowledge Graphs Reduce Hallucinations in LLMs A Survey.pdf_-1560481605505091047 to GraphDocument.\n",
      "2025-03-20 11:34:36,316 - INFO - HTTP Request: POST http://127.0.0.1:8000/v1/chat/completions \"HTTP/1.1 200 OK\".91it/s]\n",
      "2025-03-20 11:34:36,318 - INFO - Converted document documents/Agrawal et al. - 2024 - Can Knowledge Graphs Reduce Hallucinations in LLMs A Survey.pdf_-7602774949811884716 to GraphDocument.\n",
      "2025-03-20 11:34:39,085 - INFO - HTTP Request: POST http://127.0.0.1:8000/v1/chat/completions \"HTTP/1.1 200 OK\".62it/s]\n",
      "2025-03-20 11:34:39,087 - INFO - Converted document documents/Agrawal et al. - 2024 - Can Knowledge Graphs Reduce Hallucinations in LLMs A Survey.pdf_-3733875386355605853 to GraphDocument.\n",
      "2025-03-20 11:34:39,192 - INFO - HTTP Request: POST http://127.0.0.1:8000/v1/chat/completions \"HTTP/1.1 200 OK\".02s/it]\n",
      "2025-03-20 11:34:39,194 - INFO - Converted document documents/Agrawal et al. - 2024 - Can Knowledge Graphs Reduce Hallucinations in LLMs A Survey.pdf_272497383648803243 to GraphDocument.\n",
      "2025-03-20 11:34:39,298 - INFO - HTTP Request: POST http://127.0.0.1:8000/v1/chat/completions \"HTTP/1.1 200 OK\".34it/s]\n",
      "2025-03-20 11:34:39,300 - INFO - Converted document documents/Agrawal et al. - 2024 - Can Knowledge Graphs Reduce Hallucinations in LLMs A Survey.pdf_-4077220702866862953 to GraphDocument.\n",
      "2025-03-20 11:34:39,417 - INFO - HTTP Request: POST http://127.0.0.1:8000/v1/chat/completions \"HTTP/1.1 200 OK\".80it/s]\n",
      "2025-03-20 11:34:39,418 - INFO - Converted document documents/Agrawal et al. - 2024 - Can Knowledge Graphs Reduce Hallucinations in LLMs A Survey.pdf_2381976482807609476 to GraphDocument.\n",
      "2025-03-20 11:34:44,071 - INFO - HTTP Request: POST http://127.0.0.1:8000/v1/chat/completions \"HTTP/1.1 200 OK\".36it/s]\n",
      "2025-03-20 11:34:44,074 - INFO - Converted document documents/Agrawal et al. - 2024 - Can Knowledge Graphs Reduce Hallucinations in LLMs A Survey.pdf_-5359503588272692776 to GraphDocument.\n",
      "2025-03-20 11:34:47,218 - INFO - HTTP Request: POST http://127.0.0.1:8000/v1/chat/completions \"HTTP/1.1 200 OK\".69s/it]\n",
      "2025-03-20 11:34:47,219 - INFO - Converted document documents/Agrawal et al. - 2024 - Can Knowledge Graphs Reduce Hallucinations in LLMs A Survey.pdf_-6676687819310935878 to GraphDocument.\n",
      "2025-03-20 11:34:49,346 - INFO - HTTP Request: POST http://127.0.0.1:8000/v1/chat/completions \"HTTP/1.1 200 OK\".13s/it]\n",
      "2025-03-20 11:34:49,346 - INFO - Converted document documents/Agrawal et al. - 2024 - Can Knowledge Graphs Reduce Hallucinations in LLMs A Survey.pdf_-534284679289413525 to GraphDocument.\n",
      "2025-03-20 11:35:01,878 - INFO - HTTP Request: POST http://127.0.0.1:8000/v1/chat/completions \"HTTP/1.1 200 OK\".13s/it]\n",
      "2025-03-20 11:35:01,880 - INFO - Converted document documents/Agrawal et al. - 2024 - Can Knowledge Graphs Reduce Hallucinations in LLMs A Survey.pdf_5310457001682257614 to GraphDocument.\n",
      "2025-03-20 11:35:15,709 - INFO - HTTP Request: POST http://127.0.0.1:8000/v1/chat/completions \"HTTP/1.1 200 OK\".25s/it]\n",
      "2025-03-20 11:35:15,712 - INFO - Converted document documents/Agrawal et al. - 2024 - Can Knowledge Graphs Reduce Hallucinations in LLMs A Survey.pdf_4760756388715484718 to GraphDocument.\n",
      "2025-03-20 11:35:33,727 - INFO - HTTP Request: POST http://127.0.0.1:8000/v1/chat/completions \"HTTP/1.1 200 OK\".82s/it]\n",
      "2025-03-20 11:35:33,732 - INFO - Converted document documents/Agrawal et al. - 2024 - Can Knowledge Graphs Reduce Hallucinations in LLMs A Survey.pdf_1992730666794574267 to GraphDocument.\n",
      "2025-03-20 11:35:43,917 - INFO - HTTP Request: POST http://127.0.0.1:8000/v1/chat/completions \"HTTP/1.1 200 OK\".88s/it]\n",
      "2025-03-20 11:35:43,923 - INFO - Converted document documents/Agrawal et al. - 2024 - Can Knowledge Graphs Reduce Hallucinations in LLMs A Survey.pdf_-2305546245802948321 to GraphDocument.\n",
      "2025-03-20 11:35:44,078 - INFO - HTTP Request: POST http://127.0.0.1:8000/v1/chat/completions \"HTTP/1.1 200 OK\".68s/it]\n",
      "2025-03-20 11:35:44,080 - INFO - Converted document documents/Agrawal et al. - 2024 - Can Knowledge Graphs Reduce Hallucinations in LLMs A Survey.pdf_-2348446386053573722 to GraphDocument.\n",
      "2025-03-20 11:35:46,983 - INFO - HTTP Request: POST http://127.0.0.1:8000/v1/chat/completions \"HTTP/1.1 200 OK\".52s/it]\n",
      "2025-03-20 11:35:46,986 - INFO - Converted document documents/Agrawal et al. - 2024 - Can Knowledge Graphs Reduce Hallucinations in LLMs A Survey.pdf_-8274039676217505487 to GraphDocument.\n",
      "2025-03-20 11:35:47,110 - INFO - HTTP Request: POST http://127.0.0.1:8000/v1/chat/completions \"HTTP/1.1 200 OK\".14s/it]\n",
      "2025-03-20 11:35:47,112 - INFO - Converted document documents/Agrawal et al. - 2024 - Can Knowledge Graphs Reduce Hallucinations in LLMs A Survey.pdf_-6313895145127236898 to GraphDocument.\n",
      "2025-03-20 11:35:47,236 - INFO - HTTP Request: POST http://127.0.0.1:8000/v1/chat/completions \"HTTP/1.1 200 OK\".33s/it]\n",
      "2025-03-20 11:35:47,238 - INFO - Converted document documents/Agrawal et al. - 2024 - Can Knowledge Graphs Reduce Hallucinations in LLMs A Survey.pdf_-7080376749776314242 to GraphDocument.\n",
      "2025-03-20 11:35:47,345 - INFO - HTTP Request: POST http://127.0.0.1:8000/v1/chat/completions \"HTTP/1.1 200 OK\".07s/it]\n",
      "2025-03-20 11:35:47,345 - INFO - Converted document documents/Agrawal et al. - 2024 - Can Knowledge Graphs Reduce Hallucinations in LLMs A Survey.pdf_5797102224193634870 to GraphDocument.\n",
      "2025-03-20 11:35:47,470 - INFO - HTTP Request: POST http://127.0.0.1:8000/v1/chat/completions \"HTTP/1.1 200 OK\".18s/it]\n",
      "2025-03-20 11:35:47,473 - INFO - Converted document documents/Agrawal et al. - 2024 - Can Knowledge Graphs Reduce Hallucinations in LLMs A Survey.pdf_8763068901312125860 to GraphDocument.\n",
      "2025-03-20 11:35:47,597 - INFO - HTTP Request: POST http://127.0.0.1:8000/v1/chat/completions \"HTTP/1.1 200 OK\".56s/it]\n",
      "2025-03-20 11:35:47,599 - INFO - Converted document documents/Agrawal et al. - 2024 - Can Knowledge Graphs Reduce Hallucinations in LLMs A Survey.pdf_-3591207739435703051 to GraphDocument.\n",
      "2025-03-20 11:35:49,307 - INFO - HTTP Request: POST http://127.0.0.1:8000/v1/chat/completions \"HTTP/1.1 200 OK\".13s/it]\n",
      "2025-03-20 11:35:49,309 - INFO - Converted document documents/Agrawal et al. - 2024 - Can Knowledge Graphs Reduce Hallucinations in LLMs A Survey.pdf_-3894584630593037098 to GraphDocument.\n",
      "2025-03-20 11:35:54,937 - INFO - HTTP Request: POST http://127.0.0.1:8000/v1/chat/completions \"HTTP/1.1 200 OK\".31s/it]\n",
      "2025-03-20 11:35:54,939 - INFO - Converted document documents/Agrawal et al. - 2024 - Can Knowledge Graphs Reduce Hallucinations in LLMs A Survey.pdf_-1070057943504607621 to GraphDocument.\n",
      "2025-03-20 11:35:55,054 - INFO - HTTP Request: POST http://127.0.0.1:8000/v1/chat/completions \"HTTP/1.1 200 OK\".60s/it]\n",
      "2025-03-20 11:35:55,057 - INFO - Converted document documents/Agrawal et al. - 2024 - Can Knowledge Graphs Reduce Hallucinations in LLMs A Survey.pdf_3744875514734316737 to GraphDocument.\n",
      "2025-03-20 11:35:55,181 - INFO - HTTP Request: POST http://127.0.0.1:8000/v1/chat/completions \"HTTP/1.1 200 OK\".86s/it]\n",
      "2025-03-20 11:35:55,183 - INFO - Converted document documents/Agrawal et al. - 2024 - Can Knowledge Graphs Reduce Hallucinations in LLMs A Survey.pdf_3224245229077651886 to GraphDocument.\n",
      "2025-03-20 11:35:55,296 - INFO - HTTP Request: POST http://127.0.0.1:8000/v1/chat/completions \"HTTP/1.1 200 OK\".34s/it]\n",
      "2025-03-20 11:35:55,298 - INFO - Converted document documents/Agrawal et al. - 2024 - Can Knowledge Graphs Reduce Hallucinations in LLMs A Survey.pdf_4150206269914147545 to GraphDocument.\n",
      "2025-03-20 11:35:55,411 - INFO - HTTP Request: POST http://127.0.0.1:8000/v1/chat/completions \"HTTP/1.1 200 OK\".03it/s]\n",
      "2025-03-20 11:35:55,413 - INFO - Converted document documents/Agrawal et al. - 2024 - Can Knowledge Graphs Reduce Hallucinations in LLMs A Survey.pdf_3177277250391190933 to GraphDocument.\n",
      "2025-03-20 11:35:55,528 - INFO - HTTP Request: POST http://127.0.0.1:8000/v1/chat/completions \"HTTP/1.1 200 OK\".40it/s]\n",
      "2025-03-20 11:35:55,530 - INFO - Converted document documents/Agrawal et al. - 2024 - Can Knowledge Graphs Reduce Hallucinations in LLMs A Survey.pdf_8661462362065074225 to GraphDocument.\n",
      "2025-03-20 11:35:55,638 - INFO - HTTP Request: POST http://127.0.0.1:8000/v1/chat/completions \"HTTP/1.1 200 OK\".87it/s]\n",
      "2025-03-20 11:35:55,640 - INFO - Converted document documents/Agrawal et al. - 2024 - Can Knowledge Graphs Reduce Hallucinations in LLMs A Survey.pdf_6150226526828034409 to GraphDocument.\n",
      "2025-03-20 11:35:55,749 - INFO - HTTP Request: POST http://127.0.0.1:8000/v1/chat/completions \"HTTP/1.1 200 OK\".45it/s]\n",
      "2025-03-20 11:35:55,749 - INFO - Converted document documents/Agrawal et al. - 2024 - Can Knowledge Graphs Reduce Hallucinations in LLMs A Survey.pdf_-5910758445468947882 to GraphDocument.\n",
      "2025-03-20 11:35:55,880 - INFO - HTTP Request: POST http://127.0.0.1:8000/v1/chat/completions \"HTTP/1.1 200 OK\".13it/s]\n",
      "2025-03-20 11:35:55,882 - INFO - Converted document documents/Agrawal et al. - 2024 - Can Knowledge Graphs Reduce Hallucinations in LLMs A Survey.pdf_617206019044662019 to GraphDocument.\n",
      "2025-03-20 11:35:56,000 - INFO - HTTP Request: POST http://127.0.0.1:8000/v1/chat/completions \"HTTP/1.1 200 OK\".82it/s]\n",
      "2025-03-20 11:35:56,002 - INFO - Converted document documents/Agrawal et al. - 2024 - Can Knowledge Graphs Reduce Hallucinations in LLMs A Survey.pdf_1908989465673306527 to GraphDocument.\n",
      "2025-03-20 11:35:58,675 - INFO - HTTP Request: POST http://127.0.0.1:8000/v1/chat/completions \"HTTP/1.1 200 OK\".56it/s]\n",
      "2025-03-20 11:35:58,678 - INFO - Converted document documents/Agrawal et al. - 2024 - Can Knowledge Graphs Reduce Hallucinations in LLMs A Survey.pdf_8591615640151485445 to GraphDocument.\n",
      "2025-03-20 11:35:58,795 - INFO - HTTP Request: POST http://127.0.0.1:8000/v1/chat/completions \"HTTP/1.1 200 OK\".05it/s]\n",
      "2025-03-20 11:35:58,797 - INFO - Converted document documents/Agrawal et al. - 2024 - Can Knowledge Graphs Reduce Hallucinations in LLMs A Survey.pdf_-2018615731900378824 to GraphDocument.\n",
      "2025-03-20 11:35:58,919 - INFO - HTTP Request: POST http://127.0.0.1:8000/v1/chat/completions \"HTTP/1.1 200 OK\".42it/s]\n",
      "2025-03-20 11:35:58,923 - INFO - Converted document documents/Agrawal et al. - 2024 - Can Knowledge Graphs Reduce Hallucinations in LLMs A Survey.pdf_-8653124113717895009 to GraphDocument.\n",
      "2025-03-20 11:36:02,767 - INFO - HTTP Request: POST http://127.0.0.1:8000/v1/chat/completions \"HTTP/1.1 200 OK\".88it/s]\n",
      "2025-03-20 11:36:02,769 - INFO - Converted document documents/Agrawal et al. - 2024 - Can Knowledge Graphs Reduce Hallucinations in LLMs A Survey.pdf_1968044305558793476 to GraphDocument.\n",
      "2025-03-20 11:36:02,885 - INFO - HTTP Request: POST http://127.0.0.1:8000/v1/chat/completions \"HTTP/1.1 200 OK\".53s/it]\n",
      "2025-03-20 11:36:02,887 - INFO - Converted document documents/Agrawal et al. - 2024 - Can Knowledge Graphs Reduce Hallucinations in LLMs A Survey.pdf_1931907531558964243 to GraphDocument.\n",
      "2025-03-20 11:36:02,994 - INFO - HTTP Request: POST http://127.0.0.1:8000/v1/chat/completions \"HTTP/1.1 200 OK\".10s/it]\n",
      "2025-03-20 11:36:02,996 - INFO - Converted document documents/Agrawal et al. - 2024 - Can Knowledge Graphs Reduce Hallucinations in LLMs A Survey.pdf_-3212900565221663293 to GraphDocument.\n",
      "2025-03-20 11:36:03,104 - INFO - HTTP Request: POST http://127.0.0.1:8000/v1/chat/completions \"HTTP/1.1 200 OK\".24it/s]\n",
      "2025-03-20 11:36:03,106 - INFO - Converted document documents/Agrawal et al. - 2024 - Can Knowledge Graphs Reduce Hallucinations in LLMs A Survey.pdf_-1644329270870968572 to GraphDocument.\n",
      "2025-03-20 11:36:03,212 - INFO - HTTP Request: POST http://127.0.0.1:8000/v1/chat/completions \"HTTP/1.1 200 OK\".68it/s]\n",
      "2025-03-20 11:36:03,214 - INFO - Converted document documents/Agrawal et al. - 2024 - Can Knowledge Graphs Reduce Hallucinations in LLMs A Survey.pdf_2313159263629865021 to GraphDocument.\n",
      "2025-03-20 11:36:03,319 - INFO - HTTP Request: POST http://127.0.0.1:8000/v1/chat/completions \"HTTP/1.1 200 OK\".22it/s]\n",
      "2025-03-20 11:36:03,322 - INFO - Converted document documents/Agrawal et al. - 2024 - Can Knowledge Graphs Reduce Hallucinations in LLMs A Survey.pdf_4519402129538807257 to GraphDocument.\n",
      "2025-03-20 11:36:03,435 - INFO - HTTP Request: POST http://127.0.0.1:8000/v1/chat/completions \"HTTP/1.1 200 OK\".88it/s]\n",
      "2025-03-20 11:36:03,437 - INFO - Converted document documents/Agrawal et al. - 2024 - Can Knowledge Graphs Reduce Hallucinations in LLMs A Survey.pdf_4326999339185983050 to GraphDocument.\n",
      "2025-03-20 11:36:03,545 - INFO - HTTP Request: POST http://127.0.0.1:8000/v1/chat/completions \"HTTP/1.1 200 OK\".60it/s]\n",
      "2025-03-20 11:36:03,547 - INFO - Converted document documents/Agrawal et al. - 2024 - Can Knowledge Graphs Reduce Hallucinations in LLMs A Survey.pdf_-2144742066047750877 to GraphDocument.\n",
      "2025-03-20 11:36:03,665 - INFO - HTTP Request: POST http://127.0.0.1:8000/v1/chat/completions \"HTTP/1.1 200 OK\".40it/s]\n",
      "2025-03-20 11:36:03,668 - INFO - Converted document documents/Agrawal et al. - 2024 - Can Knowledge Graphs Reduce Hallucinations in LLMs A Survey.pdf_-444498164710200868 to GraphDocument.\n",
      "2025-03-20 11:36:14,199 - INFO - HTTP Request: POST http://127.0.0.1:8000/v1/chat/completions \"HTTP/1.1 200 OK\".11it/s]\n",
      "2025-03-20 11:36:14,203 - INFO - Converted document documents/Agrawal et al. - 2024 - Can Knowledge Graphs Reduce Hallucinations in LLMs A Survey.pdf_-1963949071281452346 to GraphDocument.\n",
      "2025-03-20 11:36:21,204 - INFO - HTTP Request: POST http://127.0.0.1:8000/v1/chat/completions \"HTTP/1.1 200 OK\".30s/it]\n",
      "2025-03-20 11:36:21,207 - INFO - Converted document documents/Agrawal et al. - 2024 - Can Knowledge Graphs Reduce Hallucinations in LLMs A Survey.pdf_2759155839172484771 to GraphDocument.\n",
      "2025-03-20 11:36:21,358 - INFO - HTTP Request: POST http://127.0.0.1:8000/v1/chat/completions \"HTTP/1.1 200 OK\".41s/it]\n",
      "2025-03-20 11:36:21,360 - INFO - Converted document documents/Agrawal et al. - 2024 - Can Knowledge Graphs Reduce Hallucinations in LLMs A Survey.pdf_-4722260108655141788 to GraphDocument.\n",
      "2025-03-20 11:36:21,511 - INFO - HTTP Request: POST http://127.0.0.1:8000/v1/chat/completions \"HTTP/1.1 200 OK\".13s/it]\n",
      "2025-03-20 11:36:21,514 - INFO - Converted document documents/Agrawal et al. - 2024 - Can Knowledge Graphs Reduce Hallucinations in LLMs A Survey.pdf_7893448325336564968 to GraphDocument.\n",
      "2025-03-20 11:36:24,053 - INFO - HTTP Request: POST http://127.0.0.1:8000/v1/chat/completions \"HTTP/1.1 200 OK\".24s/it]\n",
      "2025-03-20 11:36:24,055 - INFO - Converted document documents/Agrawal et al. - 2024 - Can Knowledge Graphs Reduce Hallucinations in LLMs A Survey.pdf_-4732850101853129070 to GraphDocument.\n",
      "2025-03-20 11:36:24,209 - INFO - HTTP Request: POST http://127.0.0.1:8000/v1/chat/completions \"HTTP/1.1 200 OK\".33s/it]\n",
      "2025-03-20 11:36:24,212 - INFO - Converted document documents/Agrawal et al. - 2024 - Can Knowledge Graphs Reduce Hallucinations in LLMs A Survey.pdf_5464219580695173647 to GraphDocument.\n",
      "2025-03-20 11:36:24,364 - INFO - HTTP Request: POST http://127.0.0.1:8000/v1/chat/completions \"HTTP/1.1 200 OK\".68s/it]\n",
      "2025-03-20 11:36:24,366 - INFO - Converted document documents/Agrawal et al. - 2024 - Can Knowledge Graphs Reduce Hallucinations in LLMs A Survey.pdf_-2684387321849713958 to GraphDocument.\n",
      "2025-03-20 11:36:32,644 - INFO - HTTP Request: POST http://127.0.0.1:8000/v1/chat/completions \"HTTP/1.1 200 OK\".22s/it]\n",
      "2025-03-20 11:36:32,646 - INFO - Converted document documents/Agrawal et al. - 2024 - Can Knowledge Graphs Reduce Hallucinations in LLMs A Survey.pdf_3939251355911531300 to GraphDocument.\n",
      "2025-03-20 11:36:42,342 - INFO - HTTP Request: POST http://127.0.0.1:8000/v1/chat/completions \"HTTP/1.1 200 OK\".34s/it]\n",
      "2025-03-20 11:36:42,346 - INFO - Converted document documents/Agrawal et al. - 2024 - Can Knowledge Graphs Reduce Hallucinations in LLMs A Survey.pdf_4901151984716947119 to GraphDocument.\n",
      "2025-03-20 11:36:50,531 - INFO - HTTP Request: POST http://127.0.0.1:8000/v1/chat/completions \"HTTP/1.1 200 OK\".25s/it]\n",
      "2025-03-20 11:36:50,535 - INFO - Converted document documents/Agrawal et al. - 2024 - Can Knowledge Graphs Reduce Hallucinations in LLMs A Survey.pdf_-449621214654530337 to GraphDocument.\n",
      "2025-03-20 11:36:50,687 - INFO - HTTP Request: POST http://127.0.0.1:8000/v1/chat/completions \"HTTP/1.1 200 OK\".13s/it]\n",
      "2025-03-20 11:36:50,689 - INFO - Converted document documents/Agrawal et al. - 2024 - Can Knowledge Graphs Reduce Hallucinations in LLMs A Survey.pdf_-4811336967287766173 to GraphDocument.\n",
      "2025-03-20 11:36:53,466 - INFO - HTTP Request: POST http://127.0.0.1:8000/v1/chat/completions \"HTTP/1.1 200 OK\".34s/it]\n",
      "2025-03-20 11:36:53,469 - INFO - Converted document documents/Agrawal et al. - 2024 - Can Knowledge Graphs Reduce Hallucinations in LLMs A Survey.pdf_161591169672951617 to GraphDocument.\n",
      "2025-03-20 11:36:53,619 - INFO - HTTP Request: POST http://127.0.0.1:8000/v1/chat/completions \"HTTP/1.1 200 OK\".87s/it]\n",
      "2025-03-20 11:36:53,622 - INFO - Converted document documents/Agrawal et al. - 2024 - Can Knowledge Graphs Reduce Hallucinations in LLMs A Survey.pdf_6601463221310725387 to GraphDocument.\n",
      "2025-03-20 11:36:59,538 - INFO - HTTP Request: POST http://127.0.0.1:8000/v1/chat/completions \"HTTP/1.1 200 OK\".75s/it]\n",
      "2025-03-20 11:36:59,542 - INFO - Converted document documents/Agrawal et al. - 2024 - Can Knowledge Graphs Reduce Hallucinations in LLMs A Survey.pdf_5820638413629658220 to GraphDocument.\n",
      "2025-03-20 11:36:59,734 - INFO - HTTP Request: POST http://127.0.0.1:8000/v1/chat/completions \"HTTP/1.1 200 OK\".70s/it]\n",
      "2025-03-20 11:36:59,736 - INFO - Converted document documents/Agrawal et al. - 2024 - Can Knowledge Graphs Reduce Hallucinations in LLMs A Survey.pdf_-5873747565182198874 to GraphDocument.\n",
      "2025-03-20 11:36:59,886 - INFO - HTTP Request: POST http://127.0.0.1:8000/v1/chat/completions \"HTTP/1.1 200 OK\".65s/it]\n",
      "2025-03-20 11:36:59,888 - INFO - Converted document documents/Agrawal et al. - 2024 - Can Knowledge Graphs Reduce Hallucinations in LLMs A Survey.pdf_3824364384923978936 to GraphDocument.\n",
      "2025-03-20 11:37:00,037 - INFO - HTTP Request: POST http://127.0.0.1:8000/v1/chat/completions \"HTTP/1.1 200 OK\".90s/it]\n",
      "2025-03-20 11:37:00,039 - INFO - Converted document documents/Agrawal et al. - 2024 - Can Knowledge Graphs Reduce Hallucinations in LLMs A Survey.pdf_-9071075677537384690 to GraphDocument.\n",
      "2025-03-20 11:37:02,070 - INFO - HTTP Request: POST http://127.0.0.1:8000/v1/chat/completions \"HTTP/1.1 200 OK\".38s/it]\n",
      "2025-03-20 11:37:02,073 - INFO - Converted document documents/Agrawal et al. - 2024 - Can Knowledge Graphs Reduce Hallucinations in LLMs A Survey.pdf_4705340723756611287 to GraphDocument.\n",
      "2025-03-20 11:37:02,244 - INFO - HTTP Request: POST http://127.0.0.1:8000/v1/chat/completions \"HTTP/1.1 200 OK\".57s/it]\n",
      "2025-03-20 11:37:02,246 - INFO - Converted document documents/Agrawal et al. - 2024 - Can Knowledge Graphs Reduce Hallucinations in LLMs A Survey.pdf_-7748884674464758914 to GraphDocument.\n",
      "2025-03-20 11:37:13,416 - INFO - HTTP Request: POST http://127.0.0.1:8000/v1/chat/completions \"HTTP/1.1 200 OK\".15s/it]\n",
      "2025-03-20 11:37:13,425 - INFO - Converted document documents/Agrawal et al. - 2024 - Can Knowledge Graphs Reduce Hallucinations in LLMs A Survey.pdf_872746167701210431 to GraphDocument.\n",
      "2025-03-20 11:37:13,579 - INFO - HTTP Request: POST http://127.0.0.1:8000/v1/chat/completions \"HTTP/1.1 200 OK\".16s/it]\n",
      "2025-03-20 11:37:13,582 - INFO - Converted document documents/Agrawal et al. - 2024 - Can Knowledge Graphs Reduce Hallucinations in LLMs A Survey.pdf_7127281714700848527 to GraphDocument.\n",
      "2025-03-20 11:37:21,776 - INFO - HTTP Request: POST http://127.0.0.1:8000/v1/chat/completions \"HTTP/1.1 200 OK\".96s/it]\n",
      "2025-03-20 11:37:21,780 - INFO - Converted document documents/Agrawal et al. - 2024 - Can Knowledge Graphs Reduce Hallucinations in LLMs A Survey.pdf_6703152218996876524 to GraphDocument.\n",
      "2025-03-20 11:37:21,929 - INFO - HTTP Request: POST http://127.0.0.1:8000/v1/chat/completions \"HTTP/1.1 200 OK\".53s/it]\n",
      "2025-03-20 11:37:21,931 - INFO - Converted document documents/Agrawal et al. - 2024 - Can Knowledge Graphs Reduce Hallucinations in LLMs A Survey.pdf_5977065633669722720 to GraphDocument.\n",
      "2025-03-20 11:37:22,113 - INFO - HTTP Request: POST http://127.0.0.1:8000/v1/chat/completions \"HTTP/1.1 200 OK\".22s/it]\n",
      "2025-03-20 11:37:22,116 - INFO - Converted document documents/Agrawal et al. - 2024 - Can Knowledge Graphs Reduce Hallucinations in LLMs A Survey.pdf_736154288669317305 to GraphDocument.\n",
      "2025-03-20 11:37:22,268 - INFO - HTTP Request: POST http://127.0.0.1:8000/v1/chat/completions \"HTTP/1.1 200 OK\".31s/it]\n",
      "2025-03-20 11:37:22,270 - INFO - Converted document documents/Agrawal et al. - 2024 - Can Knowledge Graphs Reduce Hallucinations in LLMs A Survey.pdf_1048276431971234083 to GraphDocument.\n",
      "2025-03-20 11:37:22,443 - INFO - HTTP Request: POST http://127.0.0.1:8000/v1/chat/completions \"HTTP/1.1 200 OK\".66s/it]\n",
      "2025-03-20 11:37:22,446 - INFO - Converted document documents/Agrawal et al. - 2024 - Can Knowledge Graphs Reduce Hallucinations in LLMs A Survey.pdf_-2438726027890032980 to GraphDocument.\n",
      "2025-03-20 11:37:22,597 - INFO - HTTP Request: POST http://127.0.0.1:8000/v1/chat/completions \"HTTP/1.1 200 OK\".22s/it]\n",
      "2025-03-20 11:37:22,599 - INFO - Converted document documents/Agrawal et al. - 2024 - Can Knowledge Graphs Reduce Hallucinations in LLMs A Survey.pdf_4723339372619239926 to GraphDocument.\n",
      "2025-03-20 11:37:30,861 - INFO - HTTP Request: POST http://127.0.0.1:8000/v1/chat/completions \"HTTP/1.1 200 OK\".11it/s]\n",
      "2025-03-20 11:37:30,865 - INFO - Converted document documents/Agrawal et al. - 2024 - Can Knowledge Graphs Reduce Hallucinations in LLMs A Survey.pdf_-7402840506104500756 to GraphDocument.\n",
      "2025-03-20 11:37:31,015 - INFO - HTTP Request: POST http://127.0.0.1:8000/v1/chat/completions \"HTTP/1.1 200 OK\".11s/it]\n",
      "2025-03-20 11:37:31,018 - INFO - Converted document documents/Agrawal et al. - 2024 - Can Knowledge Graphs Reduce Hallucinations in LLMs A Survey.pdf_-2600078125536711024 to GraphDocument.\n",
      "2025-03-20 11:37:43,647 - INFO - HTTP Request: POST http://127.0.0.1:8000/v1/chat/completions \"HTTP/1.1 200 OK\".22s/it]\n",
      "2025-03-20 11:37:43,651 - INFO - Converted document documents/Agrawal et al. - 2024 - Can Knowledge Graphs Reduce Hallucinations in LLMs A Survey.pdf_-7164384614523621694 to GraphDocument.\n",
      "2025-03-20 11:37:43,802 - INFO - HTTP Request: POST http://127.0.0.1:8000/v1/chat/completions \"HTTP/1.1 200 OK\".35s/it]\n",
      "2025-03-20 11:37:43,804 - INFO - Converted document documents/Agrawal et al. - 2024 - Can Knowledge Graphs Reduce Hallucinations in LLMs A Survey.pdf_8891566663137614004 to GraphDocument.\n",
      "2025-03-20 11:37:43,930 - INFO - HTTP Request: POST http://127.0.0.1:8000/v1/chat/completions \"HTTP/1.1 200 OK\".79s/it]\n",
      "2025-03-20 11:37:43,932 - INFO - Converted document documents/Agrawal et al. - 2024 - Can Knowledge Graphs Reduce Hallucinations in LLMs A Survey.pdf_2111430529138203854 to GraphDocument.\n",
      "2025-03-20 11:37:55,737 - INFO - HTTP Request: POST http://127.0.0.1:8000/v1/chat/completions \"HTTP/1.1 200 OK\".69s/it]\n",
      "2025-03-20 11:37:55,741 - INFO - Converted document documents/Agrawal et al. - 2024 - Can Knowledge Graphs Reduce Hallucinations in LLMs A Survey.pdf_6007590918529171316 to GraphDocument.\n",
      "2025-03-20 11:38:05,850 - INFO - HTTP Request: POST http://127.0.0.1:8000/v1/chat/completions \"HTTP/1.1 200 OK\".43s/it]\n",
      "2025-03-20 11:38:05,853 - INFO - Converted document documents/Agrawal et al. - 2024 - Can Knowledge Graphs Reduce Hallucinations in LLMs A Survey.pdf_1971788586775724061 to GraphDocument.\n",
      "2025-03-20 11:38:05,978 - INFO - HTTP Request: POST http://127.0.0.1:8000/v1/chat/completions \"HTTP/1.1 200 OK\".83s/it]\n",
      "2025-03-20 11:38:05,980 - INFO - Converted document documents/Agrawal et al. - 2024 - Can Knowledge Graphs Reduce Hallucinations in LLMs A Survey.pdf_-969897186342399587 to GraphDocument.\n",
      "2025-03-20 11:38:07,344 - INFO - HTTP Request: POST http://127.0.0.1:8000/v1/chat/completions \"HTTP/1.1 200 OK\".82s/it]\n",
      "2025-03-20 11:38:07,347 - INFO - Converted document documents/Agrawal et al. - 2024 - Can Knowledge Graphs Reduce Hallucinations in LLMs A Survey.pdf_-4381005445858443448 to GraphDocument.\n",
      "2025-03-20 11:38:09,119 - INFO - HTTP Request: POST http://127.0.0.1:8000/v1/chat/completions \"HTTP/1.1 200 OK\".78s/it]\n",
      "2025-03-20 11:38:09,127 - INFO - Converted document documents/Agrawal et al. - 2024 - Can Knowledge Graphs Reduce Hallucinations in LLMs A Survey.pdf_-7012307858897847664 to GraphDocument.\n",
      "2025-03-20 11:38:09,309 - INFO - HTTP Request: POST http://127.0.0.1:8000/v1/chat/completions \"HTTP/1.1 200 OK\".18s/it]\n",
      "2025-03-20 11:38:09,311 - INFO - Converted document documents/Agrawal et al. - 2024 - Can Knowledge Graphs Reduce Hallucinations in LLMs A Survey.pdf_-5798443966070804477 to GraphDocument.\n",
      "2025-03-20 11:38:09,462 - INFO - HTTP Request: POST http://127.0.0.1:8000/v1/chat/completions \"HTTP/1.1 200 OK\".28s/it]\n",
      "2025-03-20 11:38:09,464 - INFO - Converted document documents/Agrawal et al. - 2024 - Can Knowledge Graphs Reduce Hallucinations in LLMs A Survey.pdf_178975344066535276 to GraphDocument.\n",
      "2025-03-20 11:38:09,612 - INFO - HTTP Request: POST http://127.0.0.1:8000/v1/chat/completions \"HTTP/1.1 200 OK\".64s/it]\n",
      "2025-03-20 11:38:09,614 - INFO - Converted document documents/Agrawal et al. - 2024 - Can Knowledge Graphs Reduce Hallucinations in LLMs A Survey.pdf_8607917205025804444 to GraphDocument.\n",
      "2025-03-20 11:38:09,763 - INFO - HTTP Request: POST http://127.0.0.1:8000/v1/chat/completions \"HTTP/1.1 200 OK\".20s/it]\n",
      "2025-03-20 11:38:09,765 - INFO - Converted document documents/Agrawal et al. - 2024 - Can Knowledge Graphs Reduce Hallucinations in LLMs A Survey.pdf_-3692147290182486011 to GraphDocument.\n",
      "2025-03-20 11:38:18,308 - INFO - HTTP Request: POST http://127.0.0.1:8000/v1/chat/completions \"HTTP/1.1 200 OK\".13it/s]\n",
      "2025-03-20 11:38:18,311 - INFO - Converted document documents/Agrawal et al. - 2024 - Can Knowledge Graphs Reduce Hallucinations in LLMs A Survey.pdf_7861735121792325165 to GraphDocument.\n",
      "2025-03-20 11:38:25,356 - INFO - HTTP Request: POST http://127.0.0.1:8000/v1/chat/completions \"HTTP/1.1 200 OK\".18s/it]\n",
      "2025-03-20 11:38:25,361 - INFO - Converted document documents/Agrawal et al. - 2024 - Can Knowledge Graphs Reduce Hallucinations in LLMs A Survey.pdf_628089946132179502 to GraphDocument.\n",
      "2025-03-20 11:38:25,511 - INFO - HTTP Request: POST http://127.0.0.1:8000/v1/chat/completions \"HTTP/1.1 200 OK\".34s/it]\n",
      "2025-03-20 11:38:25,513 - INFO - Converted document documents/Agrawal et al. - 2024 - Can Knowledge Graphs Reduce Hallucinations in LLMs A Survey.pdf_-7601094963738623263 to GraphDocument.\n",
      "2025-03-20 11:38:25,695 - INFO - HTTP Request: POST http://127.0.0.1:8000/v1/chat/completions \"HTTP/1.1 200 OK\".09s/it]\n",
      "2025-03-20 11:38:25,698 - INFO - Converted document documents/Agrawal et al. - 2024 - Can Knowledge Graphs Reduce Hallucinations in LLMs A Survey.pdf_-8437703524972830902 to GraphDocument.\n",
      "2025-03-20 11:38:25,852 - INFO - HTTP Request: POST http://127.0.0.1:8000/v1/chat/completions \"HTTP/1.1 200 OK\".22s/it]\n",
      "2025-03-20 11:38:25,854 - INFO - Converted document documents/Agrawal et al. - 2024 - Can Knowledge Graphs Reduce Hallucinations in LLMs A Survey.pdf_-2330072189068633837 to GraphDocument.\n",
      "2025-03-20 11:38:26,005 - INFO - HTTP Request: POST http://127.0.0.1:8000/v1/chat/completions \"HTTP/1.1 200 OK\".60s/it]\n",
      "2025-03-20 11:38:26,007 - INFO - Converted document documents/Agrawal et al. - 2024 - Can Knowledge Graphs Reduce Hallucinations in LLMs A Survey.pdf_-5688079178584171667 to GraphDocument.\n",
      "2025-03-20 11:38:31,377 - INFO - HTTP Request: POST http://127.0.0.1:8000/v1/chat/completions \"HTTP/1.1 200 OK\".16s/it]\n",
      "2025-03-20 11:38:31,380 - INFO - Converted document documents/Agrawal et al. - 2024 - Can Knowledge Graphs Reduce Hallucinations in LLMs A Survey.pdf_2188550531636446615 to GraphDocument.\n",
      "2025-03-20 11:38:39,197 - INFO - HTTP Request: POST http://127.0.0.1:8000/v1/chat/completions \"HTTP/1.1 200 OK\".43s/it]\n",
      "2025-03-20 11:38:39,201 - INFO - Converted document documents/Agrawal et al. - 2024 - Can Knowledge Graphs Reduce Hallucinations in LLMs A Survey.pdf_286675050571987334 to GraphDocument.\n",
      "2025-03-20 11:38:39,351 - INFO - HTTP Request: POST http://127.0.0.1:8000/v1/chat/completions \"HTTP/1.1 200 OK\".04s/it]\n",
      "2025-03-20 11:38:39,353 - INFO - Converted document documents/Agrawal et al. - 2024 - Can Knowledge Graphs Reduce Hallucinations in LLMs A Survey.pdf_7096567373285494539 to GraphDocument.\n",
      "2025-03-20 11:38:39,502 - INFO - HTTP Request: POST http://127.0.0.1:8000/v1/chat/completions \"HTTP/1.1 200 OK\".88s/it]\n",
      "2025-03-20 11:38:39,504 - INFO - Converted document documents/Agrawal et al. - 2024 - Can Knowledge Graphs Reduce Hallucinations in LLMs A Survey.pdf_-3753361308050009218 to GraphDocument.\n",
      "2025-03-20 11:38:51,404 - INFO - HTTP Request: POST http://127.0.0.1:8000/v1/chat/completions \"HTTP/1.1 200 OK\".06s/it]\n",
      "2025-03-20 11:38:51,408 - INFO - Converted document documents/Agrawal et al. - 2024 - Can Knowledge Graphs Reduce Hallucinations in LLMs A Survey.pdf_-8825254942467754166 to GraphDocument.\n",
      "2025-03-20 11:38:51,590 - INFO - HTTP Request: POST http://127.0.0.1:8000/v1/chat/completions \"HTTP/1.1 200 OK\".01s/it]\n",
      "2025-03-20 11:38:51,592 - INFO - Converted document documents/Agrawal et al. - 2024 - Can Knowledge Graphs Reduce Hallucinations in LLMs A Survey.pdf_-1295026451876859179 to GraphDocument.\n",
      "2025-03-20 11:38:51,739 - INFO - HTTP Request: POST http://127.0.0.1:8000/v1/chat/completions \"HTTP/1.1 200 OK\".56s/it]\n",
      "2025-03-20 11:38:51,741 - INFO - Converted document documents/Agrawal et al. - 2024 - Can Knowledge Graphs Reduce Hallucinations in LLMs A Survey.pdf_4367818550977564058 to GraphDocument.\n",
      "2025-03-20 11:38:51,893 - INFO - HTTP Request: POST http://127.0.0.1:8000/v1/chat/completions \"HTTP/1.1 200 OK\".54s/it]\n",
      "2025-03-20 11:38:51,896 - INFO - Converted document documents/Agrawal et al. - 2024 - Can Knowledge Graphs Reduce Hallucinations in LLMs A Survey.pdf_6905739778700182523 to GraphDocument.\n",
      "2025-03-20 11:38:52,049 - INFO - HTTP Request: POST http://127.0.0.1:8000/v1/chat/completions \"HTTP/1.1 200 OK\".82s/it]\n",
      "2025-03-20 11:38:52,052 - INFO - Converted document documents/Agrawal et al. - 2024 - Can Knowledge Graphs Reduce Hallucinations in LLMs A Survey.pdf_-9195609354647263542 to GraphDocument.\n",
      "2025-03-20 11:38:52,278 - INFO - HTTP Request: POST http://127.0.0.1:8000/v1/chat/completions \"HTTP/1.1 200 OK\".32s/it]\n",
      "2025-03-20 11:38:52,280 - INFO - Converted document documents/Agrawal et al. - 2024 - Can Knowledge Graphs Reduce Hallucinations in LLMs A Survey.pdf_7074820087378740993 to GraphDocument.\n",
      "2025-03-20 11:38:52,430 - INFO - HTTP Request: POST http://127.0.0.1:8000/v1/chat/completions \"HTTP/1.1 200 OK\".01it/s]\n",
      "2025-03-20 11:38:52,432 - INFO - Converted document documents/Agrawal et al. - 2024 - Can Knowledge Graphs Reduce Hallucinations in LLMs A Survey.pdf_-1498126556995258918 to GraphDocument.\n",
      "2025-03-20 11:38:52,583 - INFO - HTTP Request: POST http://127.0.0.1:8000/v1/chat/completions \"HTTP/1.1 200 OK\".35it/s]\n",
      "2025-03-20 11:38:52,585 - INFO - Converted document documents/Agrawal et al. - 2024 - Can Knowledge Graphs Reduce Hallucinations in LLMs A Survey.pdf_7166807518515186273 to GraphDocument.\n",
      "2025-03-20 11:38:57,537 - INFO - HTTP Request: POST http://127.0.0.1:8000/v1/chat/completions \"HTTP/1.1 200 OK\".77it/s]\n",
      "2025-03-20 11:38:57,540 - INFO - Converted document documents/Agrawal et al. - 2024 - Can Knowledge Graphs Reduce Hallucinations in LLMs A Survey.pdf_-5263918961207386172 to GraphDocument.\n",
      "2025-03-20 11:38:57,696 - INFO - HTTP Request: POST http://127.0.0.1:8000/v1/chat/completions \"HTTP/1.1 200 OK\".88s/it]\n",
      "2025-03-20 11:38:57,698 - INFO - Converted document documents/Agrawal et al. - 2024 - Can Knowledge Graphs Reduce Hallucinations in LLMs A Survey.pdf_-5487827950267952720 to GraphDocument.\n",
      "2025-03-20 11:39:10,742 - INFO - HTTP Request: POST http://127.0.0.1:8000/v1/chat/completions \"HTTP/1.1 200 OK\".36s/it]\n",
      "2025-03-20 11:39:10,747 - INFO - Converted document documents/Agrawal et al. - 2024 - Can Knowledge Graphs Reduce Hallucinations in LLMs A Survey.pdf_1104943441418778729 to GraphDocument.\n",
      "2025-03-20 11:39:12,965 - INFO - HTTP Request: POST http://127.0.0.1:8000/v1/chat/completions \"HTTP/1.1 200 OK\".87s/it]\n",
      "2025-03-20 11:39:12,967 - INFO - Converted document documents/Agrawal et al. - 2024 - Can Knowledge Graphs Reduce Hallucinations in LLMs A Survey.pdf_-4845920860040866506 to GraphDocument.\n",
      "2025-03-20 11:39:13,116 - INFO - HTTP Request: POST http://127.0.0.1:8000/v1/chat/completions \"HTTP/1.1 200 OK\".08s/it]\n",
      "2025-03-20 11:39:13,118 - INFO - Converted document documents/Agrawal et al. - 2024 - Can Knowledge Graphs Reduce Hallucinations in LLMs A Survey.pdf_-3398911361557982031 to GraphDocument.\n",
      "2025-03-20 11:39:23,187 - INFO - HTTP Request: POST http://127.0.0.1:8000/v1/chat/completions \"HTTP/1.1 200 OK\".90s/it]\n",
      "2025-03-20 11:39:23,190 - INFO - Converted document documents/Agrawal et al. - 2024 - Can Knowledge Graphs Reduce Hallucinations in LLMs A Survey.pdf_-1342019198581227765 to GraphDocument.\n",
      "2025-03-20 11:39:23,342 - INFO - HTTP Request: POST http://127.0.0.1:8000/v1/chat/completions \"HTTP/1.1 200 OK\".05s/it]\n",
      "2025-03-20 11:39:23,344 - INFO - Converted document documents/Agrawal et al. - 2024 - Can Knowledge Graphs Reduce Hallucinations in LLMs A Survey.pdf_8492103251774301366 to GraphDocument.\n",
      "2025-03-20 11:39:23,492 - INFO - HTTP Request: POST http://127.0.0.1:8000/v1/chat/completions \"HTTP/1.1 200 OK\".58s/it]\n",
      "2025-03-20 11:39:23,494 - INFO - Converted document documents/Agrawal et al. - 2024 - Can Knowledge Graphs Reduce Hallucinations in LLMs A Survey.pdf_2555403807991575530 to GraphDocument.\n",
      "2025-03-20 11:39:28,719 - INFO - HTTP Request: POST http://127.0.0.1:8000/v1/chat/completions \"HTTP/1.1 200 OK\".55s/it]\n",
      "2025-03-20 11:39:28,721 - INFO - Converted document documents/Agrawal et al. - 2024 - Can Knowledge Graphs Reduce Hallucinations in LLMs A Survey.pdf_-1547270768016807894 to GraphDocument.\n",
      "2025-03-20 11:39:40,264 - INFO - HTTP Request: POST http://127.0.0.1:8000/v1/chat/completions \"HTTP/1.1 200 OK\".35s/it]\n",
      "2025-03-20 11:39:40,268 - INFO - Converted document documents/Agrawal et al. - 2024 - Can Knowledge Graphs Reduce Hallucinations in LLMs A Survey.pdf_-1438217923659482221 to GraphDocument.\n",
      "2025-03-20 11:39:40,418 - INFO - HTTP Request: POST http://127.0.0.1:8000/v1/chat/completions \"HTTP/1.1 200 OK\".81s/it]\n",
      "2025-03-20 11:39:40,420 - INFO - Converted document documents/Agrawal et al. - 2024 - Can Knowledge Graphs Reduce Hallucinations in LLMs A Survey.pdf_-4849079130243664405 to GraphDocument.\n",
      "2025-03-20 11:39:40,569 - INFO - HTTP Request: POST http://127.0.0.1:8000/v1/chat/completions \"HTTP/1.1 200 OK\".11s/it]\n",
      "2025-03-20 11:39:40,571 - INFO - Converted document documents/Agrawal et al. - 2024 - Can Knowledge Graphs Reduce Hallucinations in LLMs A Survey.pdf_-8926076652535957771 to GraphDocument.\n",
      "2025-03-20 11:39:48,469 - INFO - HTTP Request: POST http://127.0.0.1:8000/v1/chat/completions \"HTTP/1.1 200 OK\".93s/it]\n",
      "2025-03-20 11:39:48,474 - INFO - Converted document documents/Agrawal et al. - 2024 - Can Knowledge Graphs Reduce Hallucinations in LLMs A Survey.pdf_-7259253295802352585 to GraphDocument.\n",
      "2025-03-20 11:39:48,630 - INFO - HTTP Request: POST http://127.0.0.1:8000/v1/chat/completions \"HTTP/1.1 200 OK\".42s/it]\n",
      "2025-03-20 11:39:48,632 - INFO - Converted document documents/Agrawal et al. - 2024 - Can Knowledge Graphs Reduce Hallucinations in LLMs A Survey.pdf_2157019175077248970 to GraphDocument.\n",
      "Converting to graph: 100%|███████████████████████████████████████████████████████████| 179/179 [06:22<00:00,  2.14s/it]\n",
      "2025-03-20 11:39:48,669 - INFO - Inserted document -5399310952819964288                        | 0/179 [00:00<?, ?it/s]\n",
      "2025-03-20 11:39:48,680 - INFO - Inserted document 95917820899393132\n",
      "2025-03-20 11:39:48,690 - INFO - Inserted document 4308882816672405721\n",
      "2025-03-20 11:39:48,700 - INFO - Inserted document 7381775149804331241\n",
      "2025-03-20 11:39:48,710 - INFO - Inserted document -8874418626847098295\n",
      "2025-03-20 11:39:48,719 - INFO - Inserted document 1149580450291912978\n",
      "2025-03-20 11:39:48,728 - INFO - Inserted document 2051585798470481261\n",
      "2025-03-20 11:39:48,737 - INFO - Inserted document -7702070911533137097\n",
      "2025-03-20 11:39:48,749 - INFO - Inserted document -5899348783537138609                | 8/179 [00:00<00:02, 78.24it/s]\n",
      "2025-03-20 11:39:48,758 - INFO - Inserted document 5414139065398532547\n",
      "2025-03-20 11:39:48,767 - INFO - Inserted document -3579409635347291135\n",
      "2025-03-20 11:39:48,777 - INFO - Inserted document 6740115681614539412\n",
      "2025-03-20 11:39:49,834 - INFO - Inserted document -1742125321653252539\n",
      "2025-03-20 11:39:50,540 - INFO - Inserted document -5156266156514832223\n",
      "2025-03-20 11:39:50,886 - INFO - Inserted document 6980517612931408600\n",
      "2025-03-20 11:39:50,895 - INFO - Inserted document 602028277680920854\n",
      "2025-03-20 11:39:50,905 - INFO - Inserted document -8202167869633879430               | 16/179 [00:02<00:26,  6.10it/s]\n",
      "2025-03-20 11:39:50,914 - INFO - Inserted document -3504347770205592491\n",
      "2025-03-20 11:39:50,922 - INFO - Inserted document -3045844328689840067\n",
      "2025-03-20 11:39:50,932 - INFO - Inserted document 7740118673102964066\n",
      "2025-03-20 11:39:50,941 - INFO - Inserted document 745991940717124192\n",
      "2025-03-20 11:39:51,312 - INFO - Inserted document 7076899143389988222\n",
      "2025-03-20 11:39:51,322 - INFO - Inserted document -7303242612325679388               | 22/179 [00:02<00:20,  7.85it/s]\n",
      "2025-03-20 11:39:51,497 - INFO - Inserted document 7261692417565831105\n",
      "2025-03-20 11:39:51,506 - INFO - Inserted document -8394519098578523293\n",
      "2025-03-20 11:39:51,517 - INFO - Inserted document 4315047527721616483                | 25/179 [00:02<00:17,  8.78it/s]\n",
      "2025-03-20 11:39:51,530 - INFO - Inserted document 7532670189905051747\n",
      "2025-03-20 11:39:51,540 - INFO - Inserted document -538727891135762472\n",
      "2025-03-20 11:39:51,826 - INFO - Inserted document -5592781064625510375\n",
      "2025-03-20 11:39:52,005 - INFO - Inserted document -4098086434374067563               | 29/179 [00:03<00:15,  9.63it/s]\n",
      "2025-03-20 11:39:52,014 - INFO - Inserted document 6025598126580327096\n",
      "2025-03-20 11:39:52,023 - INFO - Inserted document 6554823298039554172                | 31/179 [00:03<00:15,  9.79it/s]\n",
      "2025-03-20 11:39:52,032 - INFO - Inserted document 7979741693210035111\n",
      "2025-03-20 11:39:52,370 - INFO - Inserted document -4085917130890177381\n",
      "2025-03-20 11:39:52,386 - INFO - Inserted document 8367985543929353914                | 34/179 [00:03<00:15,  9.38it/s]\n",
      "2025-03-20 11:39:52,402 - INFO - Inserted document -6438742472466007143\n",
      "2025-03-20 11:39:52,417 - INFO - Inserted document 3374845938708773649\n",
      "2025-03-20 11:39:52,428 - INFO - Inserted document 1422813788358849350\n",
      "2025-03-20 11:39:52,442 - INFO - Inserted document -8020394513576402420\n",
      "2025-03-20 11:39:52,976 - INFO - Inserted document 5726887622231784155\n",
      "2025-03-20 11:39:53,275 - INFO - Inserted document 7651581903416021928                | 40/179 [00:04<00:14,  9.60it/s]\n",
      "2025-03-20 11:39:53,536 - INFO - Inserted document -670037832084064616\n",
      "2025-03-20 11:39:53,546 - INFO - Inserted document -1065828364248351092               | 42/179 [00:04<00:18,  7.45it/s]\n",
      "2025-03-20 11:39:53,555 - INFO - Inserted document 6120603995500673828\n",
      "2025-03-20 11:39:53,794 - INFO - Inserted document -873132756901249922\n",
      "2025-03-20 11:39:53,808 - INFO - Inserted document 5271308788294305718                | 45/179 [00:05<00:16,  8.23it/s]\n",
      "2025-03-20 11:39:53,902 - INFO - Inserted document -6101484958320441577\n",
      "2025-03-20 11:39:54,099 - INFO - Inserted document 8294817110653423404                | 47/179 [00:05<00:14,  9.29it/s]\n",
      "2025-03-20 11:39:54,108 - INFO - Inserted document 2259950805779034070\n",
      "2025-03-20 11:39:54,119 - INFO - Inserted document -8457544479447676256               | 49/179 [00:05<00:13,  9.37it/s]\n",
      "2025-03-20 11:39:54,128 - INFO - Inserted document -8970845175504113946\n",
      "2025-03-20 11:39:54,138 - INFO - Inserted document 4416795174341385904\n",
      "2025-03-20 11:39:54,303 - INFO - Inserted document 7455473383645934037\n",
      "2025-03-20 11:39:54,552 - INFO - Inserted document 6882901824813285470                | 53/179 [00:05<00:10, 11.93it/s]\n",
      "2025-03-20 11:39:54,560 - INFO - Inserted document -6533790127758087747\n",
      "2025-03-20 11:39:54,570 - INFO - Inserted document -3425065290732781204               | 55/179 [00:05<00:11, 10.67it/s]\n",
      "2025-03-20 11:39:54,579 - INFO - Inserted document 2993988830704032\n",
      "2025-03-20 11:39:54,588 - INFO - Inserted document 5299738953672181106\n",
      "2025-03-20 11:39:54,597 - INFO - Inserted document -2298757612067722880\n",
      "2025-03-20 11:39:54,891 - INFO - Inserted document 2039527251253054225\n",
      "2025-03-20 11:39:54,901 - INFO - Inserted document -8448774436270427695               | 60/179 [00:06<00:09, 12.26it/s]\n",
      "2025-03-20 11:39:54,910 - INFO - Inserted document 7260560819557671690\n",
      "2025-03-20 11:39:54,919 - INFO - Inserted document 5972414359726595864\n",
      "2025-03-20 11:39:54,929 - INFO - Inserted document -1560481605505091047\n",
      "2025-03-20 11:39:54,939 - INFO - Inserted document -7602774949811884716\n",
      "2025-03-20 11:39:55,237 - INFO - Inserted document -3733875386355605853\n",
      "2025-03-20 11:39:55,248 - INFO - Inserted document 272497383648803243                 | 66/179 [00:06<00:08, 14.01it/s]\n",
      "2025-03-20 11:39:55,257 - INFO - Inserted document -4077220702866862953\n",
      "2025-03-20 11:39:55,267 - INFO - Inserted document 2381976482807609476\n",
      "2025-03-20 11:39:55,642 - INFO - Inserted document -5359503588272692776\n",
      "2025-03-20 11:39:55,945 - INFO - Inserted document -6676687819310935878               | 70/179 [00:07<00:08, 12.51it/s]\n",
      "2025-03-20 11:39:56,152 - INFO - Inserted document -534284679289413525\n",
      "2025-03-20 11:39:57,199 - INFO - Inserted document 5310457001682257614                | 72/179 [00:07<00:11,  9.08it/s]\n",
      "2025-03-20 11:39:58,154 - INFO - Inserted document 4760756388715484718\n",
      "2025-03-20 11:39:59,124 - INFO - Inserted document 1992730666794574267                | 74/179 [00:09<00:29,  3.50it/s]\n",
      "2025-03-20 11:39:59,694 - INFO - Inserted document -2305546245802948321               | 75/179 [00:10<00:38,  2.70it/s]\n",
      "2025-03-20 11:39:59,704 - INFO - Inserted document -2348446386053573722               | 76/179 [00:11<00:41,  2.50it/s]\n",
      "2025-03-20 11:39:59,919 - INFO - Inserted document -8274039676217505487\n",
      "2025-03-20 11:39:59,929 - INFO - Inserted document -6313895145127236898               | 78/179 [00:11<00:31,  3.19it/s]\n",
      "2025-03-20 11:39:59,939 - INFO - Inserted document -7080376749776314242\n",
      "2025-03-20 11:39:59,948 - INFO - Inserted document 5797102224193634870\n",
      "2025-03-20 11:39:59,957 - INFO - Inserted document 8763068901312125860\n",
      "2025-03-20 11:39:59,967 - INFO - Inserted document -3591207739435703051\n",
      "2025-03-20 11:40:00,129 - INFO - Inserted document -3894584630593037098\n",
      "2025-03-20 11:40:00,570 - INFO - Inserted document -1070057943504607621               | 84/179 [00:11<00:14,  6.37it/s]\n",
      "2025-03-20 11:40:00,579 - INFO - Inserted document 3744875514734316737\n",
      "2025-03-20 11:40:00,589 - INFO - Inserted document 3224245229077651886                | 86/179 [00:11<00:15,  5.84it/s]\n",
      "2025-03-20 11:40:00,599 - INFO - Inserted document 4150206269914147545\n",
      "2025-03-20 11:40:00,609 - INFO - Inserted document 3177277250391190933\n",
      "2025-03-20 11:40:00,618 - INFO - Inserted document 8661462362065074225\n",
      "2025-03-20 11:40:00,628 - INFO - Inserted document 6150226526828034409\n",
      "2025-03-20 11:40:00,637 - INFO - Inserted document -5910758445468947882\n",
      "2025-03-20 11:40:00,648 - INFO - Inserted document 617206019044662019\n",
      "2025-03-20 11:40:00,660 - INFO - Inserted document 1908989465673306527\n",
      "2025-03-20 11:40:00,959 - INFO - Inserted document 8591615640151485445\n",
      "2025-03-20 11:40:00,970 - INFO - Inserted document -2018615731900378824               | 95/179 [00:12<00:08, 10.30it/s]\n",
      "2025-03-20 11:40:00,979 - INFO - Inserted document -8653124113717895009\n",
      "2025-03-20 11:40:01,270 - INFO - Inserted document 1968044305558793476\n",
      "2025-03-20 11:40:01,280 - INFO - Inserted document 1931907531558964243                | 98/179 [00:12<00:07, 10.16it/s]\n",
      "2025-03-20 11:40:01,289 - INFO - Inserted document -3212900565221663293\n",
      "2025-03-20 11:40:01,298 - INFO - Inserted document -1644329270870968572\n",
      "2025-03-20 11:40:01,307 - INFO - Inserted document 2313159263629865021\n",
      "2025-03-20 11:40:01,316 - INFO - Inserted document 4519402129538807257\n",
      "2025-03-20 11:40:01,325 - INFO - Inserted document 4326999339185983050\n",
      "2025-03-20 11:40:01,334 - INFO - Inserted document -2144742066047750877\n",
      "2025-03-20 11:40:01,343 - INFO - Inserted document -444498164710200868\n",
      "2025-03-20 11:40:01,946 - INFO - Inserted document -1963949071281452346\n",
      "2025-03-20 11:40:02,292 - INFO - Inserted document 2759155839172484771               | 107/179 [00:13<00:06, 11.46it/s]\n",
      "2025-03-20 11:40:02,301 - INFO - Inserted document -4722260108655141788\n",
      "2025-03-20 11:40:02,310 - INFO - Inserted document 7893448325336564968               | 109/179 [00:13<00:06, 10.09it/s]\n",
      "2025-03-20 11:40:02,504 - INFO - Inserted document -4732850101853129070\n",
      "2025-03-20 11:40:02,513 - INFO - Inserted document 5464219580695173647               | 111/179 [00:13<00:06, 10.05it/s]\n",
      "2025-03-20 11:40:02,521 - INFO - Inserted document -2684387321849713958\n",
      "2025-03-20 11:40:02,533 - INFO - Inserted document 3939251355911531300\n",
      "2025-03-20 11:40:03,102 - INFO - Inserted document 4901151984716947119\n",
      "2025-03-20 11:40:03,111 - INFO - Inserted document -449621214654530337               | 115/179 [00:14<00:07,  8.69it/s]\n",
      "2025-03-20 11:40:03,122 - INFO - Inserted document -4811336967287766173\n",
      "2025-03-20 11:40:03,286 - INFO - Inserted document 161591169672951617\n",
      "2025-03-20 11:40:03,295 - INFO - Inserted document 6601463221310725387               | 118/179 [00:14<00:06,  9.84it/s]\n",
      "2025-03-20 11:40:03,668 - INFO - Inserted document 5820638413629658220\n",
      "2025-03-20 11:40:03,677 - INFO - Inserted document -5873747565182198874              | 120/179 [00:15<00:07,  8.41it/s]\n",
      "2025-03-20 11:40:03,686 - INFO - Inserted document 3824364384923978936\n",
      "2025-03-20 11:40:03,695 - INFO - Inserted document -9071075677537384690\n",
      "2025-03-20 11:40:03,864 - INFO - Inserted document 4705340723756611287\n",
      "2025-03-20 11:40:03,874 - INFO - Inserted document -7748884674464758914              | 124/179 [00:15<00:05, 10.63it/s]\n",
      "2025-03-20 11:40:04,493 - INFO - Inserted document 872746167701210431\n",
      "2025-03-20 11:40:04,502 - INFO - Inserted document 7127281714700848527               | 126/179 [00:15<00:07,  7.22it/s]\n",
      "2025-03-20 11:40:04,937 - INFO - Inserted document 6703152218996876524\n",
      "2025-03-20 11:40:04,946 - INFO - Inserted document 5977065633669722720               | 128/179 [00:16<00:08,  6.36it/s]\n",
      "2025-03-20 11:40:04,954 - INFO - Inserted document 736154288669317305\n",
      "2025-03-20 11:40:04,963 - INFO - Inserted document 1048276431971234083\n",
      "2025-03-20 11:40:04,972 - INFO - Inserted document -2438726027890032980\n",
      "2025-03-20 11:40:04,981 - INFO - Inserted document 4723339372619239926\n",
      "2025-03-20 11:40:05,000 - INFO - Inserted document -7402840506104500756\n",
      "2025-03-20 11:40:05,010 - INFO - Inserted document -2600078125536711024\n",
      "2025-03-20 11:40:05,732 - INFO - Inserted document -7164384614523621694\n",
      "2025-03-20 11:40:05,741 - INFO - Inserted document 8891566663137614004▊              | 136/179 [00:17<00:05,  8.01it/s]\n",
      "2025-03-20 11:40:05,750 - INFO - Inserted document 2111430529138203854\n",
      "2025-03-20 11:40:06,430 - INFO - Inserted document 6007590918529171316\n",
      "2025-03-20 11:40:06,868 - INFO - Inserted document 1971788586775724061█▊             | 139/179 [00:17<00:05,  6.67it/s]\n",
      "2025-03-20 11:40:06,878 - INFO - Inserted document -969897186342399587██▏            | 140/179 [00:18<00:06,  5.61it/s]\n",
      "2025-03-20 11:40:06,887 - INFO - Inserted document -4381005445858443448\n",
      "2025-03-20 11:40:07,077 - INFO - Inserted document -7012307858897847664\n",
      "2025-03-20 11:40:07,086 - INFO - Inserted document -5798443966070804477██▏           | 143/179 [00:18<00:05,  6.86it/s]\n",
      "2025-03-20 11:40:07,095 - INFO - Inserted document 178975344066535276\n",
      "2025-03-20 11:40:07,104 - INFO - Inserted document 8607917205025804444\n",
      "2025-03-20 11:40:07,113 - INFO - Inserted document -3692147290182486011\n",
      "2025-03-20 11:40:07,124 - INFO - Inserted document 7861735121792325165\n",
      "2025-03-20 11:40:07,535 - INFO - Inserted document 628089946132179502\n",
      "2025-03-20 11:40:07,545 - INFO - Inserted document -7601094963738623263████          | 149/179 [00:18<00:03,  8.77it/s]\n",
      "2025-03-20 11:40:07,554 - INFO - Inserted document -8437703524972830902\n",
      "2025-03-20 11:40:07,564 - INFO - Inserted document -2330072189068633837\n",
      "2025-03-20 11:40:07,571 - INFO - Inserted document -5688079178584171667\n",
      "2025-03-20 11:40:07,585 - INFO - Inserted document 2188550531636446615\n",
      "2025-03-20 11:40:08,036 - INFO - Inserted document 286675050571987334\n",
      "2025-03-20 11:40:08,048 - INFO - Inserted document 7096567373285494539███████        | 155/179 [00:19<00:02,  9.82it/s]\n",
      "2025-03-20 11:40:08,057 - INFO - Inserted document -3753361308050009218\n",
      "2025-03-20 11:40:08,681 - INFO - Inserted document -8825254942467754166\n",
      "2025-03-20 11:40:08,690 - INFO - Inserted document -1295026451876859179███████       | 158/179 [00:20<00:02,  7.88it/s]\n",
      "2025-03-20 11:40:08,699 - INFO - Inserted document 4367818550977564058\n",
      "2025-03-20 11:40:08,708 - INFO - Inserted document 6905739778700182523\n",
      "2025-03-20 11:40:08,717 - INFO - Inserted document -9195609354647263542\n",
      "2025-03-20 11:40:08,728 - INFO - Inserted document 7074820087378740993\n",
      "2025-03-20 11:40:08,737 - INFO - Inserted document -1498126556995258918\n",
      "2025-03-20 11:40:08,746 - INFO - Inserted document 7166807518515186273\n",
      "2025-03-20 11:40:08,758 - INFO - Inserted document -5263918961207386172\n",
      "2025-03-20 11:40:08,767 - INFO - Inserted document -5487827950267952720\n",
      "2025-03-20 11:40:09,406 - INFO - Inserted document 1104943441418778729\n",
      "2025-03-20 11:40:09,548 - INFO - Inserted document -4845920860040866506██████████▎   | 168/179 [00:20<00:01, 10.11it/s]\n",
      "2025-03-20 11:40:09,557 - INFO - Inserted document -3398911361557982031\n",
      "2025-03-20 11:40:10,123 - INFO - Inserted document -1342019198581227765███████████   | 170/179 [00:20<00:00, 10.42it/s]\n",
      "2025-03-20 11:40:10,133 - INFO - Inserted document 8492103251774301366\n",
      "2025-03-20 11:40:10,143 - INFO - Inserted document 2555403807991575530████████████▋  | 172/179 [00:21<00:00,  7.96it/s]\n",
      "2025-03-20 11:40:10,485 - INFO - Inserted document -1547270768016807894\n",
      "2025-03-20 11:40:10,990 - INFO - Inserted document -1438217923659482221████████████▎ | 174/179 [00:21<00:00,  7.42it/s]\n",
      "2025-03-20 11:40:10,999 - INFO - Inserted document -4849079130243664405████████████▋ | 175/179 [00:22<00:00,  5.65it/s]\n",
      "2025-03-20 11:40:11,008 - INFO - Inserted document -8926076652535957771\n",
      "2025-03-20 11:40:11,414 - INFO - Inserted document -7259253295802352585\n",
      "2025-03-20 11:40:11,423 - INFO - Inserted document 2157019175077248970██████████████▋| 178/179 [00:22<00:00,  6.05it/s]\n",
      "Inserting documents: 100%|███████████████████████████████████████████████████████████| 179/179 [00:22<00:00,  7.86it/s]\n",
      "2025-03-20 11:40:11,424 - INFO - Processing completed successfully\n"
     ]
    }
   ],
   "source": [
    "logging.basicConfig(level=logging.INFO, format=\"%(asctime)s - %(levelname)s - %(message)s\")\n",
    "\n",
    "checkpoint = CheckpointManager(CHECKPOINT_PATH)\n",
    "\n",
    "graph = Neo4jGraph()\n",
    "client = ChatOpenAI(\n",
    "    base_url=\"http://127.0.0.1:8000/v1\",\n",
    "    api_key=\"lm-studio\",\n",
    "    model=MODEL,\n",
    "    temperature=0,\n",
    "    request_timeout=240,\n",
    ")\n",
    "\n",
    "llm_transformer = LLMGraphTransformer(\n",
    "    llm=client,\n",
    "    allowed_nodes=ALLOWED_NODES,\n",
    "    allowed_relationships=ALLOWED_RELATIONSHIPS,\n",
    "    strict_mode=STRICT_MODE,\n",
    ")\n",
    "\n",
    "file_paths = sorted(\n",
    "    [\n",
    "        os.path.join(root, f)\n",
    "        for root, _, files in os.walk(DOC_DIR)\n",
    "        if \".ipynb_checkpoints\" not in root\n",
    "        for f in files\n",
    "        if f.lower().endswith((\"md\", \"json\", \"docx\", \"pdf\", \"txt\"))\n",
    "    ]\n",
    ")\n",
    "\n",
    "text_splitter = RecursiveCharacterTextSplitter(\n",
    "    chunk_size=100,\n",
    "    chunk_overlap=20,\n",
    "    length_function=lambda x: len(x.split()),\n",
    "    separators=[\" \"]\n",
    ")\n",
    "\n",
    "documents: List[Document] = []\n",
    "\n",
    "# Stage 1: File loading and splitting\n",
    "for file_path in tqdm(file_paths, desc=\"Processing files\"):\n",
    "    with open(file_path, \"r\", encoding=\"utf-8\", errors=\"ignore\") as f:\n",
    "        content = f.read()\n",
    "    file_hash = hash(content)\n",
    "\n",
    "    # Check if the file has been processed already by checking the content hash\n",
    "    if checkpoint.is_file_processed(file_path, file_hash):\n",
    "        logging.info(f\"File {file_path} has already been processed.\")\n",
    "        continue  # Skip if the file has already been processed\n",
    "\n",
    "    try:\n",
    "        # Load and clean file content\n",
    "        content = load_and_clean(file_path)\n",
    "        if not content:\n",
    "            logging.warning(f\"File {file_path} is empty after cleaning. Skipping.\")\n",
    "            continue\n",
    "\n",
    "        # Split the document into chunks\n",
    "        chunks = text_splitter.create_documents([content])\n",
    "\n",
    "        # Add metadata (filename and any other relevant details)\n",
    "        for chunk in chunks:\n",
    "            chunk.metadata = {\n",
    "                'source': file_path,  # Store the filename in the chunk metadata\n",
    "                'hash': file_hash  # Store the hash of the file content for comparison\n",
    "            }\n",
    "\n",
    "        documents.extend(chunks)\n",
    "\n",
    "        # Add file to checkpoint with content hash\n",
    "        checkpoint.add_processed_file(file_path, file_hash)  # Ensure file_hash is stored\n",
    "        logging.info(f\"Processed {file_path} into {len(chunks)} chunks\")\n",
    "\n",
    "    except Exception as e:\n",
    "        logging.error(f\"Failed to process {file_path}: {e}\")\n",
    "        continue  # Skip this file and continue with others\n",
    "\n",
    "# Stage 2: Graph document conversion\n",
    "graph_documents = []\n",
    "for doc in tqdm(documents, desc=\"Converting to graph\"):\n",
    "    doc_id = f\"{doc.metadata.get('source', 'unknown')}_{hash(doc.page_content)}\"\n",
    "\n",
    "    # Check if this graph document has already been processed\n",
    "    if checkpoint.is_graph_doc_processed(doc_id):\n",
    "        logging.info(f\"Graph document {doc_id} has already been processed.\")\n",
    "        continue\n",
    "\n",
    "    max_retries = 5\n",
    "    retry_delay = 1  # Seconds before retrying\n",
    "    attempt = 0\n",
    "\n",
    "    while attempt < max_retries:\n",
    "        try:\n",
    "            # Attempt to convert the document\n",
    "            graph_doc = llm_transformer.convert_to_graph_documents([doc])[0]\n",
    "\n",
    "            # Assign original metadata to GraphDocument\n",
    "            graph_doc.source = doc\n",
    "            graph_documents.append(graph_doc)\n",
    "\n",
    "            # Mark this graph document as processed\n",
    "            checkpoint.add_processed_graph_doc(doc_id)\n",
    "            logging.info(f\"Converted document {doc_id} to GraphDocument.\")\n",
    "            break  # Success, exit retry loop\n",
    "\n",
    "        except Exception as e:\n",
    "            attempt += 1\n",
    "            logging.warning(f\"Attempt {attempt}/{max_retries} failed for {doc_id}: {e}\")\n",
    "\n",
    "            if attempt < max_retries:\n",
    "                sleep(retry_delay)  # Wait before retrying\n",
    "            else:\n",
    "                logging.error(f\"Failed to convert document {doc_id} after {max_retries} attempts.\")\n",
    "                break  # Stop retrying after max attempts\n",
    "\n",
    "# Stage 3: Add to Neo4j\n",
    "batch_size = 10\n",
    "for doc in tqdm(graph_documents, desc=\"Inserting documents\"):\n",
    "    doc_hash = hash(doc.source.page_content)\n",
    "\n",
    "    if checkpoint.is_document_inserted(doc_hash):\n",
    "        logging.info(f\"Document with hash {doc_hash} has already been inserted.\")\n",
    "        continue\n",
    "\n",
    "    try:\n",
    "        source = doc.source.metadata.get('source', 'unknown')\n",
    "        file_hash = doc.source.metadata.get('hash', doc_hash)\n",
    "        doc_id = str(doc_hash)\n",
    "\n",
    "        # Insert or update the Document node with page_content\n",
    "        doc_query = f\"\"\"\n",
    "        MERGE (doc:Document {{id: '{doc_id}'}})\n",
    "        ON CREATE SET doc.source = '{source}', doc.hash = {file_hash}, doc.page_content = '{doc.source.page_content}'\n",
    "        ON MATCH SET doc.page_content = '{doc.source.page_content}', doc.updated = timestamp()\n",
    "        \"\"\"\n",
    "        graph.query(doc_query)\n",
    "\n",
    "        for node in doc.nodes:\n",
    "            # Apply only the __Entity__ label to all nodes\n",
    "            node_query = f\"\"\"\n",
    "            MERGE (n:__Entity__ {{id: '{node.id}'}})\n",
    "            ON CREATE SET n.type = '{node.type}'\n",
    "            \"\"\"\n",
    "            graph.query(node_query)\n",
    "            \n",
    "            # Linking Document to Node\n",
    "            link_doc_node_query = f\"\"\"\n",
    "            MATCH (doc:Document {{id: '{doc_id}'}})\n",
    "            MATCH (n:__Entity__ {{id: '{node.id}'}})\n",
    "            MERGE (doc)-[:Mentions]->(n)\n",
    "            \"\"\"\n",
    "            graph.query(link_doc_node_query)\n",
    "        \n",
    "        for rel in doc.relationships:\n",
    "            rel_query = f\"\"\"\n",
    "            MERGE (source:__Entity__ {{id: '{rel.source.id}'}})\n",
    "            MERGE (target:__Entity__ {{id: '{rel.target.id}'}})\n",
    "            MERGE (source)-[r:{rel.type}]->(target)\n",
    "            \"\"\"\n",
    "            graph.query(rel_query)\n",
    "\n",
    "        checkpoint.add_inserted_document(doc_id)\n",
    "        logging.info(f\"Inserted document {doc_id}\")\n",
    "\n",
    "    except Exception as e:\n",
    "        logging.error(f\"Failed to insert document {doc_id}: {e}\")\n",
    "        continue\n",
    "\n",
    "logging.info(\"Processing completed successfully\")        "
   ]
  },
  {
   "cell_type": "markdown",
   "metadata": {},
   "source": [
    "---\n",
    "\n",
    "#### Create embeddings for Textual Nodes (Document Nodes)"
   ]
  },
  {
   "cell_type": "code",
   "execution_count": 7,
   "metadata": {
    "id": "GHbJPMfDtHNW",
    "scrolled": true
   },
   "outputs": [
    {
     "name": "stdout",
     "output_type": "stream",
     "text": [
      "In document: documents/Agrawal et al. - 2024 - Can Knowledge Graphs Reduce Hallucinations in LLMs A Survey.pdf: \n",
      "page_content: Proceedings of the 46th Interna-\n",
      "tional ACM SIGIR Conference on Research and De-\n",
      "velopment in Information Retrieval , pages 781–790.\n",
      "Jinheon Baek, Alham Fikri Aji, and Amir Saffari. 2023.\n",
      "Knowledge-augmented language model prompting\n",
      "for zero-shot knowledge graph question answering.\n",
      "arXiv preprint arXiv:2306.04136 .\n",
      "Teodoro Baldazzi, Luigi Bellomarini, Stefano Ceri,\n",
      "Andrea Colombo, Andrea Gentili, and Emanuel\n",
      "Sallinger. 2023. Fine-tuning large enterprise\n",
      "\n",
      "In document: documents/Agrawal et al. - 2024 - Can Knowledge Graphs Reduce Hallucinations in LLMs A Survey.pdf: \n",
      "page_content: In Proceedings of the 61st Annual Meeting of\n",
      "the Association for Computational Linguistics (Vol-\n",
      "ume 1: Long Papers) , pages 9802–9822.\n",
      "Xuting Mao, Hao Sun, Xiaoqian Zhu, and Jianping Li.\n",
      "2022. Financial fraud detection using the related-\n",
      "party transaction knowledge graph. Procedia Com-\n",
      "puter Science , 199:733–740.\n",
      "Ariana Martino, Michael Iannelli, and Coleen Truong.\n",
      "2023. Knowledge injection to counter large\n",
      "\n",
      "In document: documents/Agrawal et al. - 2024 - Can Knowledge Graphs Reduce Hallucinations in LLMs A Survey.pdf: \n",
      "page_content: models for retrieval\n",
      "question answering via pluggable reward-driven con-\n",
      "textual adapter. In Proceedings of the 2023 Con-\n",
      "ference on Empirical Methods in Natural Language\n",
      "Processing , pages 5364–5375.\n",
      "Shunyu Yao, Dian Yu, Jeffrey Zhao, Izhak Shafran,\n",
      "Thomas L Griffiths, Yuan Cao, and Karthik\n",
      "Narasimhan. 2023. Tree of thoughts: Deliberate\n",
      "problem solving with large language models. arXiv\n",
      "preprint arXiv:2305.10601 .\n",
      "Shunyu\n",
      "\n",
      "In document: documents/Agrawal et al. - 2024 - Can Knowledge Graphs Reduce Hallucinations in LLMs A Survey.pdf: \n",
      "page_content: and\n",
      "knowledge graphs for commonsense question answer-\n",
      "ing. arXiv preprint arXiv:2112.02732 .\n",
      "Vinitra Swamy, Angelika Romanou, and Martin\n",
      "Jaggi. 2021. Interpreting language models through\n",
      "knowledge graph extraction. arXiv preprint\n",
      "arXiv:2111.08546 .Hao Tian, Can Gao, Xinyan Xiao, Hao Liu, Bolei He,\n",
      "Hua Wu, Haifeng Wang, and Feng Wu. 2020. Skep:\n",
      "Sentiment knowledge enhanced pre-training for sen-\n",
      "timent analysis. arXiv preprint arXiv:2005.05635\n",
      "\n"
     ]
    }
   ],
   "source": [
    "import requests\n",
    "import json\n",
    "\n",
    "graph = Neo4jGraph()\n",
    "\n",
    "def get_embedding(text):\n",
    "    response = requests.post(\n",
    "        \"http://127.0.0.1:8000/v1/embeddings\",\n",
    "        headers={\"Content-Type\": \"application/json\"},\n",
    "        json={\"input\": text, \"model\": EMB_MODEL}\n",
    "    )\n",
    "    return response.json()[\"data\"][0][\"embedding\"]\n",
    "\n",
    "class LMStudioEmbeddings:\n",
    "    def __init__(self, prepend_document=\"search_document: \", prepend_query=\"search_query: \"):\n",
    "        self.prepend_document = prepend_document\n",
    "        self.prepend_query = prepend_query\n",
    "\n",
    "    def embed_documents(self, texts):\n",
    "        return [get_embedding(self.prepend_document + text) for text in texts]\n",
    "\n",
    "    def embed_query(self, text):\n",
    "        return get_embedding(self.prepend_query + text)\n",
    "\n",
    "embeddings = LMStudioEmbeddings()\n",
    "\n",
    "vector_index = Neo4jVector.from_existing_graph(\n",
    "    embedding=embeddings,\n",
    "    search_type=\"hybrid\",\n",
    "    node_label=\"Document\",\n",
    "    text_node_properties=[\"page_content\"],\n",
    "    embedding_node_property=\"embedding\"\n",
    ")\n",
    "\n",
    "class CustomRetriever:\n",
    "    def __init__(self, vector_index):\n",
    "        self.vector_index = vector_index\n",
    "\n",
    "    def get_relevant_documents(self, query):\n",
    "        retrieved_docs = self.vector_index.similarity_search(query)\n",
    "        formatted_docs = []\n",
    "        for doc in retrieved_docs:\n",
    "            source = doc.metadata.get('source', 'Unknown Source')\n",
    "            content = f\"In document: {source}: {doc.page_content}\\n\"\n",
    "            formatted_docs.append(Document(page_content=content, metadata=doc.metadata))\n",
    "        return formatted_docs\n",
    "\n",
    "vector_retriever = CustomRetriever(vector_index)\n",
    "\n",
    "query = \"Your query here\"\n",
    "results = vector_retriever.get_relevant_documents(query)\n",
    "for result in results:\n",
    "    print(result.page_content)"
   ]
  },
  {
   "cell_type": "markdown",
   "metadata": {},
   "source": [
    "---\n",
    "\n",
    "#### Create Neo4j Indices for graph queries"
   ]
  },
  {
   "cell_type": "code",
   "execution_count": 8,
   "metadata": {
    "colab": {
     "base_uri": "https://localhost:8080/",
     "height": 817,
     "referenced_widgets": [
      "8e37edd9789a4d57a7be401628e7ff7f",
      "9bac7003afd84cecb4e67a81a396ec8d"
     ]
    },
    "id": "RMZlhtDmtHNW",
    "outputId": "86efa842-3297-45d6-dab2-681bbc836b4d"
   },
   "outputs": [],
   "source": [
    "driver = GraphDatabase.driver(\n",
    "        uri = os.environ[\"NEO4J_URI\"],\n",
    "        auth = (os.environ[\"NEO4J_USERNAME\"],\n",
    "                os.environ[\"NEO4J_PASSWORD\"]))\n",
    "\n",
    "def create_fulltext_index(tx):\n",
    "    query = '''\n",
    "CREATE FULLTEXT INDEX `fulltext_entity_index` \n",
    "FOR (n:__Entity__) \n",
    "ON EACH [n.id, n.type];\n",
    "    '''\n",
    "    tx.run(query)\n",
    "\n",
    "def create_index():\n",
    "    with driver.session() as session:\n",
    "        session.execute_write(create_fulltext_index)\n",
    "        print(\"Fulltext index created successfully.\")\n",
    "\n",
    "try:\n",
    "    create_index()\n",
    "except:\n",
    "    pass\n",
    "\n",
    "driver.close()"
   ]
  },
  {
   "cell_type": "markdown",
   "metadata": {},
   "source": [
    "---\n",
    "\n",
    "#### Entity extraction from user's query using LLM"
   ]
  },
  {
   "cell_type": "code",
   "execution_count": 9,
   "metadata": {
    "colab": {
     "base_uri": "https://localhost:8080/"
    },
    "id": "6yCMz_sRtHNW",
    "outputId": "f533f279-9a2b-48d6-830b-28d04c43550b",
    "scrolled": true
   },
   "outputs": [
    {
     "name": "stderr",
     "output_type": "stream",
     "text": [
      "2025-03-20 11:41:50,275 - INFO - HTTP Request: POST http://127.0.0.1:8000/v1/chat/completions \"HTTP/1.1 200 OK\"\n"
     ]
    },
    {
     "name": "stdout",
     "output_type": "stream",
     "text": [
      "names=['Microsoft', 'employee', 'John']\n"
     ]
    }
   ],
   "source": [
    "class Entities(BaseModel):\n",
    "    names: list[str] = Field(..., description=\"Extracted entities from the text.\")\n",
    "\n",
    "llm = ChatOpenAI(\n",
    "    openai_api_base=\"http://127.0.0.1:8000/v1\",\n",
    "    openai_api_key=\"lm-studio\",\n",
    "    model=MODEL,\n",
    "    temperature=0\n",
    ")\n",
    "\n",
    "prompt = ChatPromptTemplate.from_template(\n",
    "\"\"\"\n",
    "You need to extract all entites present within the user's query.\n",
    "Only return a JSON object with the key \"entities\" containing the extracted entities.\n",
    "ONLY RETURN THE JSON OBJECT. NO FURTHER EXPLANATION.\n",
    "\n",
    "#####\n",
    "EXAMPLES:\n",
    "\n",
    "Query: \"Who is the president of the USA?\"\n",
    "Return: {{ \"entities\": [\"President\", \"USA\"] }}\n",
    "\n",
    "Query: \"What products does Apple offer?\"\n",
    "Return: {{ \"entities\": [\"Apple\", \"product\"] }}\n",
    "\n",
    "Query: \"Who is the founder of Microsoft?\"\n",
    "Return: {{ \"entities\": [\"founder\", \"Microsoft\"] }}\n",
    "\n",
    "#####\n",
    "Now extract the entites from the query: {question}\n",
    "\"\"\"\n",
    ")\n",
    "\n",
    "def extract_entities(question):\n",
    "    formatted_prompt = prompt.format(question=question)\n",
    "    response = llm.invoke(formatted_prompt)\n",
    "    \n",
    "    response_text = response.content if hasattr(response, \"content\") else str(response)\n",
    "    \n",
    "    cleaned_response = re.sub(r\"```json|```\", \"\", response_text).strip()\n",
    "    \n",
    "    try:\n",
    "        parsed_response = json.loads(cleaned_response)\n",
    "        \n",
    "        if \"entities\" not in parsed_response:\n",
    "            return {\"error\": \"No 'entities' field found in response\", \"raw\": cleaned_response}\n",
    "        \n",
    "        parsed_response[\"names\"] = parsed_response.pop(\"entities\")\n",
    "        \n",
    "        return Entities(**parsed_response)\n",
    "    \n",
    "    except json.JSONDecodeError as e:\n",
    "        return {\"error\": f\"JSON Decode Error: {str(e)}\", \"raw\": cleaned_response}\n",
    "    except KeyError as e:\n",
    "        return {\"error\": f\"Missing key: {str(e)}\", \"raw\": cleaned_response}\n",
    "    except TypeError as e:\n",
    "        return {\"error\": f\"Type Error: {str(e)}\", \"raw\": cleaned_response}\n",
    "\n",
    "question = \"Does Microsoft have any employee named John?\"\n",
    "entities = extract_entities(question)\n",
    "\n",
    "print(entities)"
   ]
  },
  {
   "cell_type": "markdown",
   "metadata": {},
   "source": [
    "---\n",
    "\n",
    "#### Querying Neo4j Graph database"
   ]
  },
  {
   "cell_type": "code",
   "execution_count": 10,
   "metadata": {
    "id": "dY8huoM8tHNX"
   },
   "outputs": [],
   "source": [
    "def graph_retriever(question: str) -> str:\n",
    "    result = []\n",
    "    \n",
    "    entities = extract_entities(question)\n",
    "    print(entities)\n",
    "    if isinstance(entities, dict):\n",
    "        return \"Doesn't seem to have any information on this.\"\n",
    "    \n",
    "    for entity in entities.names:\n",
    "        formatted_query = entity.replace(\" \", \"_\")\n",
    "        fuzzy_query = f\"{formatted_query}*\"\n",
    "        query_length = len(formatted_query)\n",
    "\n",
    "        response = graph.query(\n",
    "            \"\"\"\n",
    "CALL db.index.fulltext.queryNodes('fulltext_entity_index', $query, {limit:10}) \n",
    "YIELD node, score\n",
    "WITH node, score, $query_length AS query_length, size(node.id) AS id_length\n",
    "WHERE score >= 0.8 OR (toFloat(query_length) / id_length) >= 0.8\n",
    "CALL {\n",
    "  WITH node\n",
    "  MATCH (node)-[r]->(neighbor)\n",
    "  RETURN CASE \n",
    "    WHEN 'Document' IN labels(node) \n",
    "    THEN coalesce([label IN labels(node) WHERE label <> '__Entity__'][0], 'Unknown') + \": \" + node.source + ' - ' + type(r) + ' -> ' + neighbor.id \n",
    "    ELSE node.id + ' - ' + type(r) + ' -> ' + neighbor.id\n",
    "  END AS output\n",
    "  UNION ALL\n",
    "  WITH node\n",
    "  MATCH (node)<-[r]-(neighbor)\n",
    "  RETURN CASE \n",
    "    WHEN 'Document' IN labels(neighbor) \n",
    "    THEN coalesce([label IN labels(neighbor) WHERE label <> '__Entity__'][0], 'Unknown') + \": \" + neighbor.source + ' - ' + type(r) + ' -> ' + node.id\n",
    "    ELSE neighbor.id + ' - ' + type(r) + ' -> ' + node.id\n",
    "  END AS output\n",
    "}\n",
    "RETURN output LIMIT 15\n",
    "            \"\"\",\n",
    "            {\"query\": fuzzy_query, \"query_length\": query_length},\n",
    "        )\n",
    "        \n",
    "        if response:\n",
    "            filtered = [el['output'].replace(\"_\", \" \") for el in response if not re.search(r\"^[0-9a-f]{32}\", el['output'])]\n",
    "            result.extend(filtered)\n",
    "    \n",
    "    return \"\\n\".join(result) if result else \"Doesn't seem to have sufficient information on this.\""
   ]
  },
  {
   "cell_type": "code",
   "execution_count": 11,
   "metadata": {
    "colab": {
     "base_uri": "https://localhost:8080/"
    },
    "id": "_6fOJRPntHNX",
    "outputId": "a99ffca0-2d4d-4374-8519-c6e37c395f1f",
    "scrolled": true
   },
   "outputs": [
    {
     "name": "stderr",
     "output_type": "stream",
     "text": [
      "2025-03-20 11:41:52,073 - INFO - HTTP Request: POST http://127.0.0.1:8000/v1/chat/completions \"HTTP/1.1 200 OK\"\n"
     ]
    },
    {
     "name": "stdout",
     "output_type": "stream",
     "text": [
      "names=['IELTS']\n",
      "Doesn't seem to have sufficient information on this.\n"
     ]
    }
   ],
   "source": [
    "print(graph_retriever(\"What is IELTS?\"))"
   ]
  },
  {
   "cell_type": "markdown",
   "metadata": {},
   "source": [
    "---\n",
    "\n",
    "#### HybridGRAG: Both GraphRAG and RAG"
   ]
  },
  {
   "cell_type": "code",
   "execution_count": 12,
   "metadata": {
    "id": "iCTMp3prtHNX"
   },
   "outputs": [],
   "source": [
    "def full_retriever(question: str):\n",
    "    graph_data = graph_retriever(question)\n",
    "    vector_data = [el.page_content for el in vector_retriever.get_relevant_documents(question)]\n",
    "    \n",
    "    final_data = f\"\"\"\n",
    "{graph_data}\n",
    "\n",
    "{\"\".join(vector_data)}\n",
    "    \"\"\"\n",
    "\n",
    "    final_data = final_data.replace(\"page_content: \", \"\")\n",
    "\n",
    "    return final_data"
   ]
  },
  {
   "cell_type": "code",
   "execution_count": 13,
   "metadata": {
    "scrolled": true
   },
   "outputs": [
    {
     "name": "stderr",
     "output_type": "stream",
     "text": [
      "2025-03-20 11:41:55,124 - INFO - HTTP Request: POST http://127.0.0.1:8000/v1/chat/completions \"HTTP/1.1 200 OK\"\n"
     ]
    },
    {
     "name": "stdout",
     "output_type": "stream",
     "text": [
      "names=['The Verge', 'reports', 'Elon Musk']\n",
      "\n",
      "Doesn't seem to have sufficient information on this.\n",
      "\n",
      "In document: documents/Agrawal et al. - 2024 - Can Knowledge Graphs Reduce Hallucinations in LLMs A Survey.pdf: \n",
      "and Illia Polosukhin. 2017. Attention is all\n",
      "you need. Advances in neural information processing\n",
      "systems , 30.\n",
      "Blerta Veseli, Simon Razniewski, Jan-Christoph Kalo,\n",
      "and Gerhard Weikum. 2023. Evaluating the knowl-\n",
      "edge base completion potential of gpt. Findings of\n",
      "EMNLP 2023 .\n",
      "Boxin Wang, Wei Ping, Peng Xu, Lawrence McAfee,\n",
      "Zihan Liu, Mohammad Shoeybi, Yi Dong, Oleksii\n",
      "Kuchaiev, Bo Li, Chaowei\n",
      "In document: documents/Agrawal et al. - 2024 - Can Knowledge Graphs Reduce Hallucinations in LLMs A Survey.pdf: \n",
      "new knowl-\n",
      "edge. In Proceedings of the 2023 Conference onEmpirical Methods in Natural Language Processing ,\n",
      "pages 1397–1414.\n",
      "Zhangyue Yin, Qiushi Sun, Cheng Chang, Qipeng\n",
      "Guo, Junqi Dai, Xuan-Jing Huang, and Xipeng Qiu.\n",
      "2023b. Exchange-of-thought: Enhancing large lan-\n",
      "guage model capabilities through cross-model com-\n",
      "munication. In Proceedings of the 2023 Conference\n",
      "on Empirical Methods in Natural Language Process-\n",
      "ing, pages\n",
      "In document: documents/Agrawal et al. - 2024 - Can Knowledge Graphs Reduce Hallucinations in LLMs A Survey.pdf: \n",
      "Colombo, Andrea Gentili, and Emanuel\n",
      "Sallinger. 2023. Fine-tuning large enterprise lan-\n",
      "guage models via ontological reasoning. arXiv\n",
      "preprint arXiv:2306.10723 .\n",
      "Parishad BehnamGhader, Santiago Miret, and Siva\n",
      "Reddy. 2022. Can retriever-augmented language\n",
      "models reason? the blame game between the re-\n",
      "triever and the language model. arXiv preprint\n",
      "arXiv:2212.09146 .\n",
      "Yoshua Bengio, Réjean Ducharme, and Pascal Vincent.\n",
      "2000. A neural probabilistic language\n",
      "In document: documents/Agrawal et al. - 2024 - Can Knowledge Graphs Reduce Hallucinations in LLMs A Survey.pdf: \n",
      "with human feedback. Advances in Neural\n",
      "Information Processing Systems , 35:27730–27744.\n",
      "Shirui Pan, Linhao Luo, Yufei Wang, Chen Chen, Ji-\n",
      "apu Wang, and Xindong Wu. 2023. Unifying large\n",
      "language models and knowledge graphs: A roadmap.\n",
      "arXiv preprint arXiv:2306.08302 .\n",
      "Matthew E Peters, Mark Neumann, Robert L Lo-\n",
      "gan IV , Roy Schwartz, Vidur Joshi, Sameer Singh,\n",
      "and Noah A Smith.\n",
      "\n",
      "    \n"
     ]
    }
   ],
   "source": [
    "print(full_retriever(\"Does The Verge have any reports on Elon Musk?\"))"
   ]
  },
  {
   "cell_type": "markdown",
   "metadata": {},
   "source": [
    "---\n",
    "\n",
    "## Chatbot with HybridGRAG Demo"
   ]
  },
  {
   "cell_type": "code",
   "execution_count": 14,
   "metadata": {
    "id": "Dzb2jcittHNY"
   },
   "outputs": [],
   "source": [
    "import requests\n",
    "\n",
    "LM_STUDIO_URL = \"http://127.0.0.1:8000/v1/chat/completions\"\n",
    "\n",
    "def query_lm_studio(question):\n",
    "    \"\"\"\n",
    "    Fetches context using full_retriever() and queries LM Studio for a response.\n",
    "    \"\"\"\n",
    "    context = full_retriever(question)\n",
    "\n",
    "    prompt = f\"\"\"\n",
    "You are a smart and helpful assitant.\n",
    "Answer the user's query based on the given context.\n",
    "Think step by step, reviewing all information within the context before answering.\n",
    "Never give an answer containing false information.\n",
    "\n",
    "#####\n",
    "CONTEXT:\n",
    "{context}\n",
    "\n",
    "#####\n",
    "USER'S QUERY:\n",
    "{question}\n",
    "\"\"\"\n",
    "\n",
    "    payload = {\n",
    "        \"model\": MODEL,\n",
    "        \"messages\": [{\"role\": \"user\", \"content\": prompt}],\n",
    "        \"temperature\": 0.5\n",
    "    }\n",
    "    response = requests.post(LM_STUDIO_URL, json=payload)\n",
    "\n",
    "    print(f\"\\nCONTEXT{'=' * 90}\\n{context}\")\n",
    "    print(\"ANSWER\" + \"=\" * 90 + \"\\n\")\n",
    "    if response.status_code == 200:\n",
    "        return response.json()[\"choices\"][0][\"message\"][\"content\"]\n",
    "    else:\n",
    "        return f\"Error: {response.text}\""
   ]
  },
  {
   "cell_type": "code",
   "execution_count": 15,
   "metadata": {},
   "outputs": [
    {
     "name": "stderr",
     "output_type": "stream",
     "text": [
      "2025-03-20 11:42:00,230 - INFO - HTTP Request: POST http://127.0.0.1:8000/v1/chat/completions \"HTTP/1.1 200 OK\"\n"
     ]
    },
    {
     "name": "stdout",
     "output_type": "stream",
     "text": [
      "names=['knowledge graphs', 'papers']\n",
      "\n",
      "CONTEXT==========================================================================================\n",
      "\n",
      "Knowledge graphs - USED TO CREATE -> faithful reasoning paths based on various relations\n",
      "Document: documents/Agrawal et al. - 2024 - Can Knowledge Graphs Reduce Hallucinations in LLMs A Survey.pdf - Mentions -> Knowledge graphs\n",
      "KB-Binder - INTEGRATES -> Knowledge Graphs\n",
      "Document: documents/Agrawal et al. - 2024 - Can Knowledge Graphs Reduce Hallucinations in LLMs A Survey.pdf - Mentions -> Knowledge Graphs\n",
      "arXiv preprint arXiv:2112.02732 - RELATED TO -> knowledge graphs for commonsense question answering\n",
      "Document: documents/Agrawal et al. - 2024 - Can Knowledge Graphs Reduce Hallucinations in LLMs A Survey.pdf - Mentions -> knowledge graphs for commonsense question answering\n",
      "Knowledge graphs (KGs) - ORGANIZE INFORMATION IN -> structured format\n",
      "Document: documents/Agrawal et al. - 2024 - Can Knowledge Graphs Reduce Hallucinations in LLMs A Survey.pdf - Mentions -> Knowledge graphs (KGs)\n",
      "\n",
      "In document: documents/Agrawal et al. - 2024 - Can Knowledge Graphs Reduce Hallucinations in LLMs A Survey.pdf: \n",
      "we need knowledge graphs:\n",
      "Applications. Knowledge Graphs: Methodology,\n",
      "Tools and Selected Use Cases , pages 95–112.\n",
      "Negar Foroutan, Mohammadreza Banaei, Karl Aberer,\n",
      "and Antoine Bosselut. 2023. Breaking the language\n",
      "barrier: Improving cross-lingual reasoning with struc-\n",
      "tured self-attention. In Findings of the Association\n",
      "for Computational Linguistics: EMNLP 2023 , pages\n",
      "9422–9442.\n",
      "Peng Fu, Yiming Zhang, Haobo Wang, Weikang Qiu,\n",
      "and Junbo\n",
      "In document: documents/Agrawal et al. - 2024 - Can Knowledge Graphs Reduce Hallucinations in LLMs A Survey.pdf: \n",
      "al. 2023. Lkpnr: Llm\n",
      "and kg for personalized news recommendation frame-\n",
      "work. arXiv preprint arXiv:2308.12028 .\n",
      "Knowledge Graphs Seminar, Nahor Gebretensae, and\n",
      "Heiko Paulheim. 2019. Wikidata: A free collabora-\n",
      "tive knowledge graph.\n",
      "Priyanka Sen, Sandeep Mavadia, and Amir Saffari. 2023.\n",
      "Knowledge graph-augmented language models for\n",
      "complex question answering.\n",
      "Tao Shen, Yi Mao, Pengcheng He, Guodong Long,\n",
      "Adam Trischler, and Weizhu\n",
      "In document: documents/Agrawal et al. - 2024 - Can Knowledge Graphs Reduce Hallucinations in LLMs A Survey.pdf: \n",
      "Pat Verga. 2022. Faithful\n",
      "to the document or to the world? mitigating hallu-\n",
      "cinations via entity-linked knowledge in abstractive\n",
      "summarization. arXiv preprint arXiv:2204.13761 .\n",
      "Dieter Fensel, Umutcan ¸ Sim¸ sek, Kevin Angele, Elwin\n",
      "Huaman, Elias Kärle, Oleksandra Panasiuk, Ioan\n",
      "Toma, Jürgen Umbrich, Alexander Wahler, Dieter\n",
      "Fensel, et al. 2020. Why we need knowledge graphs:\n",
      "Applications. Knowledge Graphs: Methodology,\n",
      "Tools and\n",
      "In document: documents/Agrawal et al. - 2024 - Can Knowledge Graphs Reduce Hallucinations in LLMs A Survey.pdf: \n",
      "domain-\n",
      "specific knowledge graph. The extent to which\n",
      "updated knowledge is integrated into the model\n",
      "remains to be determined. Onoe et al.’s (Onoe\n",
      "et al., 2023) evaluation framework indicate that\n",
      "while models can recall facts about new entities,\n",
      "inferring based on these is harder. The effect of\n",
      "updating knowledge on existing entities is still an\n",
      "open research question.\n",
      "3.3 Knowledge-Aware\n",
      "\n",
      "    \n",
      "ANSWER==========================================================================================\n",
      "\n",
      "Knowledge graphs (KGs) are used to organize information in a structured format, facilitating faithful reasoning paths based on various relations. They have applications in reducing hallucinations in large language models (LLMs), improving cross-lingual reasoning, and enhancing personalized news recommendation frameworks.\n",
      "\n",
      "Some relevant papers include:\n",
      "1. **Breaking the Language Barrier: Improving Cross-Lingual Reasoning with Structured Self-Attention** by Negar Foroutan et al., 2023.\n",
      "2. **Lkpnr: Llm and kg for Personalized News Recommendation Framework** by Peng Fu et al., 2023.\n",
      "3. **Knowledge Graph-Augmented Language Models for Complex Question Answering** by Priyanka Sen et al., 2023.\n",
      "4. **Faithful to the Document or to the World? Mitigating Hallucinations via Entity-Linked Knowledge in Abstractive Summarization** by Dieter Pat Verga, 2022.\n",
      "\n",
      "These works highlight how knowledge graphs can enhance LLMs and address issues like hallucinations through structured data integration.\n"
     ]
    }
   ],
   "source": [
    "print(query_lm_studio(\"What can you tell me about knowledge graphs. Some papers on it? Answer consisely.\"))"
   ]
  },
  {
   "cell_type": "markdown",
   "metadata": {},
   "source": [
    "## Some useful utilities\n",
    "\n",
    "#### Start Neo4j\n",
    "```bash\n",
    "docker-compose up -d --build\n",
    "```\n",
    "\n",
    "#### Stop Neo4j\n",
    "```bash\n",
    "docker-compose down\n",
    "```\n",
    "\n",
    "#### Delete database\n",
    "```cypher\n",
    "MATCH (n) DETACH DELETE n;\n",
    "```\n",
    "\n",
    "#### Display n number of nodes\n",
    "```cypher\n",
    "MATCH (n)\n",
    "RETURN n LIMIT 25\n",
    "```\n",
    "\n",
    "#### Indixes manipulation\n",
    "```cypher\n",
    "SHOW INDEXES;\n",
    "DROP INDEX vector;\n",
    "```"
   ]
  }
 ],
 "metadata": {
  "colab": {
   "include_colab_link": true,
   "provenance": []
  },
  "kernelspec": {
   "display_name": "AutoKG (Python 3.10)",
   "language": "python",
   "name": "autokg"
  },
  "language_info": {
   "codemirror_mode": {
    "name": "ipython",
    "version": 3
   },
   "file_extension": ".py",
   "mimetype": "text/x-python",
   "name": "python",
   "nbconvert_exporter": "python",
   "pygments_lexer": "ipython3",
   "version": "3.10.16"
  },
  "widgets": {
   "application/vnd.jupyter.widget-state+json": {
    "8e37edd9789a4d57a7be401628e7ff7f": {
     "model_module": "yfiles-jupyter-graphs",
     "model_module_version": "^1.6.1",
     "model_name": "GraphModel",
     "state": {
      "_context_pane_mapping": [
       {
        "id": "Neighborhood",
        "title": "Neighborhood"
       },
       {
        "id": "Data",
        "title": "Data"
       },
       {
        "id": "Search",
        "title": "Search"
       },
       {
        "id": "About",
        "title": "About"
       }
      ],
      "_data_importer": "neo4j",
      "_directed": true,
      "_dom_classes": [],
      "_edges": [
       {
        "color": "#9C27B0",
        "directed": true,
        "end": 2,
        "id": 14,
        "label": "RULED",
        "properties": {
         "label": "RULED"
        },
        "start": 1,
        "thickness_factor": 1
       },
       {
        "color": "#9C27B0",
        "directed": true,
        "end": 3,
        "id": 15,
        "label": "RULED",
        "properties": {
         "label": "RULED"
        },
        "start": 1,
        "thickness_factor": 1
       },
       {
        "color": "#2196F3",
        "directed": true,
        "end": 4,
        "id": 16,
        "label": "BELONGED_TO",
        "properties": {
         "label": "BELONGED_TO"
        },
        "start": 1,
        "thickness_factor": 1
       },
       {
        "color": "#4CAF50",
        "directed": true,
        "end": 5,
        "id": 17,
        "label": "PARENT",
        "properties": {
         "label": "PARENT"
        },
        "start": 1,
        "thickness_factor": 1
       },
       {
        "color": "#4CAF50",
        "directed": true,
        "end": 6,
        "id": 18,
        "label": "PARENT",
        "properties": {
         "label": "PARENT"
        },
        "start": 1,
        "thickness_factor": 1
       },
       {
        "color": "#F44336",
        "directed": true,
        "end": 6,
        "id": 19,
        "label": "SPOUSE",
        "properties": {
         "label": "SPOUSE"
        },
        "start": 5,
        "thickness_factor": 1
       },
       {
        "color": "#4CAF50",
        "directed": true,
        "end": 7,
        "id": 20,
        "label": "PARENT",
        "properties": {
         "label": "PARENT"
        },
        "start": 5,
        "thickness_factor": 1
       },
       {
        "color": "#607D8B",
        "directed": true,
        "end": 8,
        "id": 21,
        "label": "BEQUEATHED_CROWN_TO",
        "properties": {
         "label": "BEQUEATHED_CROWN_TO"
        },
        "start": 7,
        "thickness_factor": 1
       },
       {
        "color": "#673AB7",
        "directed": true,
        "end": 9,
        "id": 22,
        "label": "IGNORED_CLAIMS_OF",
        "properties": {
         "label": "IGNORED_CLAIMS_OF"
        },
        "start": 7,
        "thickness_factor": 1
       },
       {
        "color": "#673AB7",
        "directed": true,
        "end": 1,
        "id": 23,
        "label": "IGNORED_CLAIMS_OF",
        "properties": {
         "label": "IGNORED_CLAIMS_OF"
        },
        "start": 7,
        "thickness_factor": 1
       },
       {
        "color": "#CDDC39",
        "directed": true,
        "end": 1,
        "id": 24,
        "label": "IMPRISONED",
        "properties": {
         "label": "IMPRISONED"
        },
        "start": 9,
        "thickness_factor": 1
       },
       {
        "color": "#9E9E9E",
        "directed": true,
        "end": 10,
        "id": 25,
        "label": "DEPENDED_ON",
        "properties": {
         "label": "DEPENDED_ON"
        },
        "start": 1,
        "thickness_factor": 1
       },
       {
        "color": "#9C27B0",
        "directed": true,
        "end": 11,
        "id": 26,
        "label": "CREATED_TITLE",
        "properties": {
         "label": "CREATED_TITLE"
        },
        "start": 1,
        "thickness_factor": 1
       },
       {
        "color": "#2196F3",
        "directed": true,
        "end": 12,
        "id": 27,
        "label": "SUCCEEDED_BY",
        "properties": {
         "label": "SUCCEEDED_BY"
        },
        "start": 1,
        "thickness_factor": 1
       },
       {
        "color": "#4CAF50",
        "directed": true,
        "end": 12,
        "id": 28,
        "label": "PARENT",
        "properties": {
         "label": "PARENT"
        },
        "start": 13,
        "thickness_factor": 1
       },
       {
        "color": "#9E9E9E",
        "directed": true,
        "end": 14,
        "id": 29,
        "label": "DEPENDED_ON",
        "properties": {
         "label": "DEPENDED_ON"
        },
        "start": 1,
        "thickness_factor": 1
       },
       {
        "color": "#4CAF50",
        "directed": true,
        "end": 17,
        "id": 40,
        "label": "WAR",
        "properties": {
         "label": "WAR"
        },
        "start": 16,
        "thickness_factor": 1
       },
       {
        "color": "#4CAF50",
        "directed": true,
        "end": 18,
        "id": 41,
        "label": "WAR",
        "properties": {
         "label": "WAR"
        },
        "start": 16,
        "thickness_factor": 1
       },
       {
        "color": "#4CAF50",
        "directed": true,
        "end": 19,
        "id": 42,
        "label": "WAR",
        "properties": {
         "label": "WAR"
        },
        "start": 16,
        "thickness_factor": 1
       },
       {
        "color": "#4CAF50",
        "directed": true,
        "end": 3,
        "id": 43,
        "label": "WAR",
        "properties": {
         "label": "WAR"
        },
        "start": 16,
        "thickness_factor": 1
       },
       {
        "color": "#F44336",
        "directed": true,
        "end": 20,
        "id": 44,
        "label": "LEAD",
        "properties": {
         "label": "LEAD"
        },
        "start": 16,
        "thickness_factor": 1
       },
       {
        "color": "#F44336",
        "directed": true,
        "end": 21,
        "id": 45,
        "label": "LEAD",
        "properties": {
         "label": "LEAD"
        },
        "start": 16,
        "thickness_factor": 1
       },
       {
        "color": "#F44336",
        "directed": true,
        "end": 22,
        "id": 46,
        "label": "LEAD",
        "properties": {
         "label": "LEAD"
        },
        "start": 16,
        "thickness_factor": 1
       },
       {
        "color": "#F44336",
        "directed": true,
        "end": 23,
        "id": 47,
        "label": "LEAD",
        "properties": {
         "label": "LEAD"
        },
        "start": 16,
        "thickness_factor": 1
       },
       {
        "color": "#607D8B",
        "directed": true,
        "end": 24,
        "id": 48,
        "label": "DEFEAT",
        "properties": {
         "label": "DEFEAT"
        },
        "start": 16,
        "thickness_factor": 1
       },
       {
        "color": "#673AB7",
        "directed": true,
        "end": 12,
        "id": 64,
        "label": "SUCCESSOR",
        "properties": {
         "label": "SUCCESSOR"
        },
        "start": 1,
        "thickness_factor": 1
       },
       {
        "color": "#673AB7",
        "directed": true,
        "end": 7,
        "id": 65,
        "label": "SUCCESSOR",
        "properties": {
         "label": "SUCCESSOR"
        },
        "start": 5,
        "thickness_factor": 1
       },
       {
        "color": "#673AB7",
        "directed": true,
        "end": 29,
        "id": 66,
        "label": "SUCCESSOR",
        "properties": {
         "label": "SUCCESSOR"
        },
        "start": 5,
        "thickness_factor": 1
       },
       {
        "color": "#673AB7",
        "directed": true,
        "end": 1,
        "id": 67,
        "label": "SUCCESSOR",
        "properties": {
         "label": "SUCCESSOR"
        },
        "start": 5,
        "thickness_factor": 1
       },
       {
        "color": "#673AB7",
        "directed": true,
        "end": 30,
        "id": 68,
        "label": "SUCCESSOR",
        "properties": {
         "label": "SUCCESSOR"
        },
        "start": 5,
        "thickness_factor": 1
       },
       {
        "color": "#673AB7",
        "directed": true,
        "end": 31,
        "id": 69,
        "label": "SUCCESSOR",
        "properties": {
         "label": "SUCCESSOR"
        },
        "start": 5,
        "thickness_factor": 1
       },
       {
        "color": "#673AB7",
        "directed": true,
        "end": 32,
        "id": 70,
        "label": "SUCCESSOR",
        "properties": {
         "label": "SUCCESSOR"
        },
        "start": 5,
        "thickness_factor": 1
       },
       {
        "color": "#673AB7",
        "directed": true,
        "end": 33,
        "id": 71,
        "label": "SUCCESSOR",
        "properties": {
         "label": "SUCCESSOR"
        },
        "start": 5,
        "thickness_factor": 1
       },
       {
        "color": "#CDDC39",
        "directed": true,
        "end": 34,
        "id": 72,
        "label": "PREFERRED_SUCCESSOR",
        "properties": {
         "label": "PREFERRED_SUCCESSOR"
        },
        "start": 29,
        "thickness_factor": 1
       },
       {
        "color": "#9E9E9E",
        "directed": true,
        "end": 35,
        "id": 73,
        "label": "FAMILY_RELATION",
        "properties": {
         "label": "FAMILY_RELATION"
        },
        "start": 34,
        "thickness_factor": 1
       },
       {
        "color": "#9C27B0",
        "directed": true,
        "end": 13,
        "id": 74,
        "label": "MARRIAGE",
        "properties": {
         "label": "MARRIAGE"
        },
        "start": 35,
        "thickness_factor": 1
       },
       {
        "color": "#2196F3",
        "directed": true,
        "end": 37,
        "id": 91,
        "label": "GRANDPARENT",
        "properties": {
         "label": "GRANDPARENT"
        },
        "start": 39,
        "thickness_factor": 1
       },
       {
        "color": "#2196F3",
        "directed": true,
        "end": 38,
        "id": 92,
        "label": "GRANDPARENT",
        "properties": {
         "label": "GRANDPARENT"
        },
        "start": 39,
        "thickness_factor": 1
       },
       {
        "color": "#4CAF50",
        "directed": true,
        "end": 40,
        "id": 93,
        "label": "PARENT",
        "properties": {
         "label": "PARENT"
        },
        "start": 34,
        "thickness_factor": 1
       },
       {
        "color": "#4CAF50",
        "directed": true,
        "end": 38,
        "id": 94,
        "label": "PARENT",
        "properties": {
         "label": "PARENT"
        },
        "start": 40,
        "thickness_factor": 1
       },
       {
        "color": "#4CAF50",
        "directed": true,
        "end": 37,
        "id": 95,
        "label": "PARENT",
        "properties": {
         "label": "PARENT"
        },
        "start": 13,
        "thickness_factor": 1
       },
       {
        "color": "#4CAF50",
        "directed": true,
        "end": 16,
        "id": 96,
        "label": "CONTENDER",
        "properties": {
         "label": "CONTENDER"
        },
        "start": 13,
        "thickness_factor": 1
       },
       {
        "color": "#4CAF50",
        "directed": true,
        "end": 8,
        "id": 97,
        "label": "PARENT",
        "properties": {
         "label": "PARENT"
        },
        "start": 41,
        "thickness_factor": 1
       },
       {
        "color": "#4CAF50",
        "directed": true,
        "end": 46,
        "id": 98,
        "label": "PARENT",
        "properties": {
         "label": "PARENT"
        },
        "start": 41,
        "thickness_factor": 1
       },
       {
        "color": "#4CAF50",
        "directed": true,
        "end": 47,
        "id": 99,
        "label": "PARENT",
        "properties": {
         "label": "PARENT"
        },
        "start": 41,
        "thickness_factor": 1
       },
       {
        "color": "#F44336",
        "directed": true,
        "end": 41,
        "id": 100,
        "label": "SPOUSE",
        "properties": {
         "label": "SPOUSE"
        },
        "start": 44,
        "thickness_factor": 1
       },
       {
        "color": "#F44336",
        "directed": true,
        "end": 42,
        "id": 101,
        "label": "SPOUSE",
        "properties": {
         "label": "SPOUSE"
        },
        "start": 44,
        "thickness_factor": 1
       },
       {
        "color": "#F44336",
        "directed": true,
        "end": 41,
        "id": 102,
        "label": "SPOUSE",
        "properties": {
         "label": "SPOUSE"
        },
        "start": 45,
        "thickness_factor": 1
       },
       {
        "color": "#F44336",
        "directed": true,
        "end": 48,
        "id": 103,
        "label": "SPOUSE",
        "properties": {
         "label": "SPOUSE"
        },
        "start": 46,
        "thickness_factor": 1
       },
       {
        "color": "#F44336",
        "directed": true,
        "end": 51,
        "id": 117,
        "label": "HELD_TITLE",
        "properties": {
         "label": "HELD_TITLE"
        },
        "start": 50,
        "thickness_factor": 1
       }
      ],
      "_graph_layout": {},
      "_highlight": [],
      "_license": {},
      "_model_module": "yfiles-jupyter-graphs",
      "_model_module_version": "^1.6.1",
      "_model_name": "GraphModel",
      "_neighborhood": {},
      "_nodes": [
       {
        "color": "#2196F3",
        "id": 1,
        "label": "Elizabeth I",
        "position": [
         0,
         0
        ],
        "properties": {
         "id": "Elizabeth I",
         "label": "Person:__Entity__"
        },
        "scale_factor": 1,
        "size": [
         55,
         55
        ],
        "styles": {},
        "type": "#2196F3"
       },
       {
        "color": "#4CAF50",
        "id": 2,
        "label": "England",
        "position": [
         0,
         0
        ],
        "properties": {
         "id": "England",
         "label": "Country:__Entity__"
        },
        "scale_factor": 1,
        "size": [
         55,
         55
        ],
        "styles": {},
        "type": "#4CAF50"
       },
       {
        "color": "#4CAF50",
        "id": 3,
        "label": "Ireland",
        "position": [
         0,
         0
        ],
        "properties": {
         "id": "Ireland",
         "label": "Country:__Entity__"
        },
        "scale_factor": 1,
        "size": [
         55,
         55
        ],
        "styles": {},
        "type": "#4CAF50"
       },
       {
        "color": "#F44336",
        "id": 4,
        "label": "House Of Tudor",
        "position": [
         0,
         0
        ],
        "properties": {
         "id": "House Of Tudor",
         "label": "__Entity__:Royal family"
        },
        "scale_factor": 1,
        "size": [
         55,
         55
        ],
        "styles": {},
        "type": "#F44336"
       },
       {
        "color": "#2196F3",
        "id": 5,
        "label": "Henry Viii",
        "position": [
         0,
         0
        ],
        "properties": {
         "id": "Henry Viii",
         "label": "Person:__Entity__"
        },
        "scale_factor": 1,
        "size": [
         55,
         55
        ],
        "styles": {},
        "type": "#2196F3"
       },
       {
        "color": "#2196F3",
        "id": 6,
        "label": "Anne Boleyn",
        "position": [
         0,
         0
        ],
        "properties": {
         "id": "Anne Boleyn",
         "label": "Person:__Entity__"
        },
        "scale_factor": 1,
        "size": [
         55,
         55
        ],
        "styles": {},
        "type": "#2196F3"
       },
       {
        "color": "#2196F3",
        "id": 7,
        "label": "Edward Vi",
        "position": [
         0,
         0
        ],
        "properties": {
         "id": "Edward Vi",
         "label": "Person:__Entity__"
        },
        "scale_factor": 1,
        "size": [
         55,
         55
        ],
        "styles": {},
        "type": "#2196F3"
       },
       {
        "color": "#2196F3",
        "id": 8,
        "label": "Lady Jane Grey",
        "position": [
         0,
         0
        ],
        "properties": {
         "id": "Lady Jane Grey",
         "label": "Person:__Entity__"
        },
        "scale_factor": 1,
        "size": [
         55,
         55
        ],
        "styles": {},
        "type": "#2196F3"
       },
       {
        "color": "#2196F3",
        "id": 9,
        "label": "Mary",
        "position": [
         0,
         0
        ],
        "properties": {
         "id": "Mary",
         "label": "Person:__Entity__"
        },
        "scale_factor": 1,
        "size": [
         55,
         55
        ],
        "styles": {},
        "type": "#2196F3"
       },
       {
        "color": "#2196F3",
        "id": 10,
        "label": "William Cecil",
        "position": [
         0,
         0
        ],
        "properties": {
         "id": "William Cecil",
         "label": "Person:__Entity__"
        },
        "scale_factor": 1,
        "size": [
         55,
         55
        ],
        "styles": {},
        "type": "#2196F3"
       },
       {
        "color": "#607D8B",
        "id": 11,
        "label": "Baron Burghley",
        "position": [
         0,
         0
        ],
        "properties": {
         "id": "Baron Burghley",
         "label": "Title:__Entity__"
        },
        "scale_factor": 1,
        "size": [
         55,
         55
        ],
        "styles": {},
        "type": "#607D8B"
       },
       {
        "color": "#2196F3",
        "id": 12,
        "label": "James Vi Of Scotland",
        "position": [
         0,
         0
        ],
        "properties": {
         "id": "James Vi Of Scotland",
         "label": "Person:__Entity__"
        },
        "scale_factor": 1,
        "size": [
         55,
         55
        ],
        "styles": {},
        "type": "#2196F3"
       },
       {
        "color": "#2196F3",
        "id": 13,
        "label": "Mary, Queen Of Scots",
        "position": [
         0,
         0
        ],
        "properties": {
         "id": "Mary, Queen Of Scots",
         "label": "Person:__Entity__"
        },
        "scale_factor": 1,
        "size": [
         55,
         55
        ],
        "styles": {},
        "type": "#2196F3"
       },
       {
        "color": "#2196F3",
        "id": 14,
        "label": "Francis Walsingham",
        "position": [
         0,
         0
        ],
        "properties": {
         "id": "Francis Walsingham",
         "label": "Person:__Entity__"
        },
        "scale_factor": 1,
        "size": [
         55,
         55
        ],
        "styles": {},
        "type": "#2196F3"
       },
       {
        "color": "#2196F3",
        "id": 16,
        "label": "Elizabeth",
        "position": [
         0,
         0
        ],
        "properties": {
         "id": "Elizabeth",
         "label": "Person:__Entity__"
        },
        "scale_factor": 1,
        "size": [
         55,
         55
        ],
        "styles": {},
        "type": "#2196F3"
       },
       {
        "color": "#4CAF50",
        "id": 17,
        "label": "Spain",
        "position": [
         0,
         0
        ],
        "properties": {
         "id": "Spain",
         "label": "Country:__Entity__"
        },
        "scale_factor": 1,
        "size": [
         55,
         55
        ],
        "styles": {},
        "type": "#4CAF50"
       },
       {
        "color": "#4CAF50",
        "id": 18,
        "label": "Netherlands",
        "position": [
         0,
         0
        ],
        "properties": {
         "id": "Netherlands",
         "label": "Country:__Entity__"
        },
        "scale_factor": 1,
        "size": [
         55,
         55
        ],
        "styles": {},
        "type": "#4CAF50"
       },
       {
        "color": "#4CAF50",
        "id": 19,
        "label": "France",
        "position": [
         0,
         0
        ],
        "properties": {
         "id": "France",
         "label": "Country:__Entity__"
        },
        "scale_factor": 1,
        "size": [
         55,
         55
        ],
        "styles": {},
        "type": "#4CAF50"
       },
       {
        "color": "#673AB7",
        "id": 20,
        "label": "William Shakespeare",
        "position": [
         0,
         0
        ],
        "properties": {
         "id": "William Shakespeare",
         "label": "Playwright:__Entity__"
        },
        "scale_factor": 1,
        "size": [
         55,
         55
        ],
        "styles": {},
        "type": "#673AB7"
       },
       {
        "color": "#673AB7",
        "id": 21,
        "label": "Christopher Marlowe",
        "position": [
         0,
         0
        ],
        "properties": {
         "id": "Christopher Marlowe",
         "label": "Playwright:__Entity__"
        },
        "scale_factor": 1,
        "size": [
         55,
         55
        ],
        "styles": {},
        "type": "#673AB7"
       },
       {
        "color": "#CDDC39",
        "id": 22,
        "label": "Francis Drake",
        "position": [
         0,
         0
        ],
        "properties": {
         "id": "Francis Drake",
         "label": "Explorer:__Entity__"
        },
        "scale_factor": 1,
        "size": [
         55,
         55
        ],
        "styles": {},
        "type": "#CDDC39"
       },
       {
        "color": "#CDDC39",
        "id": 23,
        "label": "Walter Raleigh",
        "position": [
         0,
         0
        ],
        "properties": {
         "id": "Walter Raleigh",
         "label": "Explorer:__Entity__"
        },
        "scale_factor": 1,
        "size": [
         55,
         55
        ],
        "styles": {},
        "type": "#CDDC39"
       },
       {
        "color": "#9E9E9E",
        "id": 24,
        "label": "Spanish Armada",
        "position": [
         0,
         0
        ],
        "properties": {
         "id": "Spanish Armada",
         "label": "Event:__Entity__"
        },
        "scale_factor": 1,
        "size": [
         55,
         55
        ],
        "styles": {},
        "type": "#9E9E9E"
       },
       {
        "color": "#2196F3",
        "id": 29,
        "label": "Mary I",
        "position": [
         0,
         0
        ],
        "properties": {
         "id": "Mary I",
         "label": "Person:__Entity__"
        },
        "scale_factor": 1,
        "size": [
         55,
         55
        ],
        "styles": {},
        "type": "#2196F3"
       },
       {
        "color": "#2196F3",
        "id": 30,
        "label": "Jane Grey",
        "position": [
         0,
         0
        ],
        "properties": {
         "id": "Jane Grey",
         "label": "Person:__Entity__"
        },
        "scale_factor": 1,
        "size": [
         55,
         55
        ],
        "styles": {},
        "type": "#2196F3"
       },
       {
        "color": "#2196F3",
        "id": 31,
        "label": "Katherine Grey",
        "position": [
         0,
         0
        ],
        "properties": {
         "id": "Katherine Grey",
         "label": "Person:__Entity__"
        },
        "scale_factor": 1,
        "size": [
         55,
         55
        ],
        "styles": {},
        "type": "#2196F3"
       },
       {
        "color": "#2196F3",
        "id": 32,
        "label": "Mary Grey",
        "position": [
         0,
         0
        ],
        "properties": {
         "id": "Mary Grey",
         "label": "Person:__Entity__"
        },
        "scale_factor": 1,
        "size": [
         55,
         55
        ],
        "styles": {},
        "type": "#2196F3"
       },
       {
        "color": "#2196F3",
        "id": 33,
        "label": "Margaret Clifford",
        "position": [
         0,
         0
        ],
        "properties": {
         "id": "Margaret Clifford",
         "label": "Person:__Entity__"
        },
        "scale_factor": 1,
        "size": [
         55,
         55
        ],
        "styles": {},
        "type": "#2196F3"
       },
       {
        "color": "#2196F3",
        "id": 34,
        "label": "Margaret Douglas",
        "position": [
         0,
         0
        ],
        "properties": {
         "id": "Margaret Douglas",
         "label": "Person:__Entity__"
        },
        "scale_factor": 1,
        "size": [
         55,
         55
        ],
        "styles": {},
        "type": "#2196F3"
       },
       {
        "color": "#2196F3",
        "id": 35,
        "label": "Henry Stuart, Lord Darnley",
        "position": [
         0,
         0
        ],
        "properties": {
         "id": "Henry Stuart, Lord Darnley",
         "label": "Person:__Entity__"
        },
        "scale_factor": 1,
        "size": [
         55,
         55
        ],
        "styles": {},
        "type": "#2196F3"
       },
       {
        "color": "#2196F3",
        "id": 39,
        "label": "Margaret Tudor",
        "position": [
         0,
         0
        ],
        "properties": {
         "id": "Margaret Tudor",
         "label": "Person:__Entity__"
        },
        "scale_factor": 1,
        "size": [
         55,
         55
        ],
        "styles": {},
        "type": "#2196F3"
       },
       {
        "color": "#2196F3",
        "id": 37,
        "label": "James Vi",
        "position": [
         0,
         0
        ],
        "properties": {
         "id": "James Vi",
         "label": "Person:__Entity__"
        },
        "scale_factor": 1,
        "size": [
         55,
         55
        ],
        "styles": {},
        "type": "#2196F3"
       },
       {
        "color": "#2196F3",
        "id": 38,
        "label": "Arbella Stuart",
        "position": [
         0,
         0
        ],
        "properties": {
         "id": "Arbella Stuart",
         "label": "Person:__Entity__"
        },
        "scale_factor": 1,
        "size": [
         55,
         55
        ],
        "styles": {},
        "type": "#2196F3"
       },
       {
        "color": "#2196F3",
        "id": 40,
        "label": "Charles Stuart",
        "position": [
         0,
         0
        ],
        "properties": {
         "id": "Charles Stuart",
         "label": "Person:__Entity__"
        },
        "scale_factor": 1,
        "size": [
         55,
         55
        ],
        "styles": {},
        "type": "#2196F3"
       },
       {
        "color": "#2196F3",
        "id": 41,
        "label": "Frances Grey",
        "position": [
         0,
         0
        ],
        "properties": {
         "id": "Frances Grey",
         "label": "Person:__Entity__"
        },
        "scale_factor": 1,
        "size": [
         55,
         55
        ],
        "styles": {},
        "type": "#2196F3"
       },
       {
        "color": "#2196F3",
        "id": 46,
        "label": "Lady Catherine Grey",
        "position": [
         0,
         0
        ],
        "properties": {
         "id": "Lady Catherine Grey",
         "label": "Person:__Entity__"
        },
        "scale_factor": 1,
        "size": [
         55,
         55
        ],
        "styles": {},
        "type": "#2196F3"
       },
       {
        "color": "#2196F3",
        "id": 47,
        "label": "Lady Mary Grey",
        "position": [
         0,
         0
        ],
        "properties": {
         "id": "Lady Mary Grey",
         "label": "Person:__Entity__"
        },
        "scale_factor": 1,
        "size": [
         55,
         55
        ],
        "styles": {},
        "type": "#2196F3"
       },
       {
        "color": "#2196F3",
        "id": 44,
        "label": "Charles Brandon",
        "position": [
         0,
         0
        ],
        "properties": {
         "id": "Charles Brandon",
         "label": "Person:__Entity__"
        },
        "scale_factor": 1,
        "size": [
         55,
         55
        ],
        "styles": {},
        "type": "#2196F3"
       },
       {
        "color": "#2196F3",
        "id": 42,
        "label": "Eleanor Clifford",
        "position": [
         0,
         0
        ],
        "properties": {
         "id": "Eleanor Clifford",
         "label": "Person:__Entity__"
        },
        "scale_factor": 1,
        "size": [
         55,
         55
        ],
        "styles": {},
        "type": "#2196F3"
       },
       {
        "color": "#2196F3",
        "id": 45,
        "label": "Henry Grey",
        "position": [
         0,
         0
        ],
        "properties": {
         "id": "Henry Grey",
         "label": "Person:__Entity__"
        },
        "scale_factor": 1,
        "size": [
         55,
         55
        ],
        "styles": {},
        "type": "#2196F3"
       },
       {
        "color": "#2196F3",
        "id": 48,
        "label": "Henry Herbert",
        "position": [
         0,
         0
        ],
        "properties": {
         "id": "Henry Herbert",
         "label": "Person:__Entity__"
        },
        "scale_factor": 1,
        "size": [
         55,
         55
        ],
        "styles": {},
        "type": "#2196F3"
       },
       {
        "color": "#2196F3",
        "id": 50,
        "label": "Elizabeth Petrovna",
        "position": [
         0,
         0
        ],
        "properties": {
         "id": "Elizabeth Petrovna",
         "label": "Person:__Entity__"
        },
        "scale_factor": 1,
        "size": [
         55,
         55
        ],
        "styles": {},
        "type": "#2196F3"
       },
       {
        "color": "#607D8B",
        "id": 51,
        "label": "Empress Of Russia",
        "position": [
         0,
         0
        ],
        "properties": {
         "id": "Empress Of Russia",
         "label": "Title:__Entity__"
        },
        "scale_factor": 1,
        "size": [
         55,
         55
        ],
        "styles": {},
        "type": "#607D8B"
       }
      ],
      "_overview": {
       "enabled": null,
       "overview_set": false
      },
      "_selected_graph": [
       [],
       []
      ],
      "_sidebar": {
       "enabled": true,
       "start_with": ""
      },
      "_view_count": null,
      "_view_module": "yfiles-jupyter-graphs",
      "_view_module_version": "^1.6.1",
      "_view_name": "GraphView",
      "layout": "IPY_MODEL_9bac7003afd84cecb4e67a81a396ec8d"
     }
    },
    "9bac7003afd84cecb4e67a81a396ec8d": {
     "model_module": "@jupyter-widgets/base",
     "model_module_version": "1.2.0",
     "model_name": "LayoutModel",
     "state": {
      "_model_module": "@jupyter-widgets/base",
      "_model_module_version": "1.2.0",
      "_model_name": "LayoutModel",
      "_view_count": null,
      "_view_module": "@jupyter-widgets/base",
      "_view_module_version": "1.2.0",
      "_view_name": "LayoutView",
      "align_content": null,
      "align_items": null,
      "align_self": null,
      "border": null,
      "bottom": null,
      "display": null,
      "flex": null,
      "flex_flow": null,
      "grid_area": null,
      "grid_auto_columns": null,
      "grid_auto_flow": null,
      "grid_auto_rows": null,
      "grid_column": null,
      "grid_gap": null,
      "grid_row": null,
      "grid_template_areas": null,
      "grid_template_columns": null,
      "grid_template_rows": null,
      "height": "800px",
      "justify_content": null,
      "justify_items": null,
      "left": null,
      "margin": null,
      "max_height": null,
      "max_width": null,
      "min_height": null,
      "min_width": null,
      "object_fit": null,
      "object_position": null,
      "order": null,
      "overflow": null,
      "overflow_x": null,
      "overflow_y": null,
      "padding": null,
      "right": null,
      "top": null,
      "visibility": null,
      "width": "100%"
     }
    }
   }
  }
 },
 "nbformat": 4,
 "nbformat_minor": 4
}
